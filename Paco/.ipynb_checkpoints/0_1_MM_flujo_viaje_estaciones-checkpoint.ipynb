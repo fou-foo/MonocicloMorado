{
 "cells": [
  {
   "cell_type": "markdown",
   "metadata": {},
   "source": [
    "# 0 Cargar dataframes"
   ]
  },
  {
   "cell_type": "code",
   "execution_count": 1,
   "metadata": {},
   "outputs": [],
   "source": [
    "import pandas as pd"
   ]
  },
  {
   "cell_type": "code",
   "execution_count": 2,
   "metadata": {},
   "outputs": [],
   "source": [
    "est_distancias = pd.read_csv('0_0_distancia_estaciones_esvelta.csv')"
   ]
  },
  {
   "cell_type": "code",
   "execution_count": 3,
   "metadata": {},
   "outputs": [
    {
     "name": "stderr",
     "output_type": "stream",
     "text": [
      "/Users/franciscopatino/anaconda3/lib/python3.6/site-packages/IPython/core/interactiveshell.py:2785: DtypeWarning: Columns (2) have mixed types. Specify dtype option on import or set low_memory=False.\n",
      "  interactivity=interactivity, compiler=compiler, result=result)\n"
     ]
    }
   ],
   "source": [
    "df_viajes = pd.read_csv('ecobicis-2018-03.csv')"
   ]
  },
  {
   "cell_type": "code",
   "execution_count": 4,
   "metadata": {},
   "outputs": [],
   "source": [
    "estaciones_lonlat = pd.read_csv('stations.csv')"
   ]
  },
  {
   "cell_type": "markdown",
   "metadata": {},
   "source": [
    "# 0.1 String a List"
   ]
  },
  {
   "cell_type": "code",
   "execution_count": 5,
   "metadata": {},
   "outputs": [],
   "source": [
    "# Cuando el CSV se importa, la columna con pares de retiro-arribo\n",
    "# Necesita reconvertirse en una columna de listas\n",
    "\n",
    "import ast\n",
    "\n",
    "est_distancias['retiro_arribo'] = est_distancias.retiro_arribo.apply(lambda s: list(ast.literal_eval(s)))"
   ]
  },
  {
   "cell_type": "markdown",
   "metadata": {},
   "source": [
    "# 0.2 Remover estaciones fuera de CSV longitud y latitud"
   ]
  },
  {
   "cell_type": "code",
   "execution_count": 7,
   "metadata": {},
   "outputs": [],
   "source": [
    "# Para simplificar procesamiento y visualización, estaciones fuera del rango normal se remueven\n",
    "\n",
    "df_viajes = df_viajes.drop(df_viajes[df_viajes.Ciclo_Estacion_Retiro == 1001].index)\n",
    "df_viajes = df_viajes.drop(df_viajes[df_viajes.Ciclo_Estacion_Arribo == 1001].index)\n",
    "df_viajes = df_viajes.drop(df_viajes[df_viajes.Ciclo_Estacion_Retiro == 3000].index)\n",
    "df_viajes = df_viajes.drop(df_viajes[df_viajes.Ciclo_Estacion_Arribo == 3000].index)\n",
    "df_viajes = df_viajes.drop(df_viajes[df_viajes.Ciclo_Estacion_Retiro == 1002].index)\n",
    "df_viajes = df_viajes.drop(df_viajes[df_viajes.Ciclo_Estacion_Arribo == 1002].index)\n",
    "\n",
    "df_viajes = df_viajes.reset_index(drop=True)\n",
    "\n",
    "est_distancias = est_distancias.drop(est_distancias[est_distancias.est_retiro == 1002].index)\n",
    "est_distancias = est_distancias.drop(est_distancias[est_distancias.est_arribo == 1002].index)\n",
    "est_distancias = est_distancias.reset_index(drop=True)"
   ]
  },
  {
   "cell_type": "markdown",
   "metadata": {},
   "source": [
    "# 1.0 Viajes ida y salida"
   ]
  },
  {
   "cell_type": "code",
   "execution_count": 8,
   "metadata": {},
   "outputs": [],
   "source": [
    "# Esta función cuenta el numero de viajes de una estación hacia otra.\n",
    "# Los resultados son reciprocos. Es decir, [1 a 2] es la inversa de [2 a 1] \n",
    "# para lo que son calculos de estadística de uso\n",
    "\n",
    "from tqdm import tqdm\n",
    "\n",
    "def fn_viajes_entrada_salida(df_viajes, df_estaciones):\n",
    "    suma_salida = []\n",
    "    suma_entrada = []\n",
    "    for par in tqdm(df_estaciones['retiro_arribo']):\n",
    "        \n",
    "        suma_sal = len(df_viajes.loc[(df_viajes['Ciclo_Estacion_Retiro'] == par[0]) \n",
    "                                 & (df_viajes['Ciclo_Estacion_Arribo'] == par[1])])\n",
    "    \n",
    "        suma_salida.append(suma_sal)\n",
    "\n",
    "        suma_ent = len(df_viajes.loc[(df_viajes['Ciclo_Estacion_Retiro'] == par[1]) \n",
    "                                 & (df_viajes['Ciclo_Estacion_Arribo'] == par[0])])\n",
    "    \n",
    "        suma_entrada.append(suma_ent)\n",
    "        \n",
    "    df_estaciones['trafico_entrante'] = suma_entrada\n",
    "    df_estaciones['trafico_salida'] = suma_salida"
   ]
  },
  {
   "cell_type": "code",
   "execution_count": 10,
   "metadata": {},
   "outputs": [
    {
     "name": "stderr",
     "output_type": "stream",
     "text": [
      "100%|██████████| 3/3 [00:00<00:00, 212.29it/s]\n"
     ]
    },
    {
     "data": {
      "text/html": [
       "<div>\n",
       "<style scoped>\n",
       "    .dataframe tbody tr th:only-of-type {\n",
       "        vertical-align: middle;\n",
       "    }\n",
       "\n",
       "    .dataframe tbody tr th {\n",
       "        vertical-align: top;\n",
       "    }\n",
       "\n",
       "    .dataframe thead th {\n",
       "        text-align: right;\n",
       "    }\n",
       "</style>\n",
       "<table border=\"1\" class=\"dataframe\">\n",
       "  <thead>\n",
       "    <tr style=\"text-align: right;\">\n",
       "      <th></th>\n",
       "      <th>retiro_arribo</th>\n",
       "      <th>distancia</th>\n",
       "      <th>est_retiro</th>\n",
       "      <th>est_arribo</th>\n",
       "      <th>trafico_entrante</th>\n",
       "      <th>trafico_salida</th>\n",
       "    </tr>\n",
       "  </thead>\n",
       "  <tbody>\n",
       "    <tr>\n",
       "      <th>0</th>\n",
       "      <td>[3, 4]</td>\n",
       "      <td>50</td>\n",
       "      <td>3</td>\n",
       "      <td>4</td>\n",
       "      <td>1</td>\n",
       "      <td>1</td>\n",
       "    </tr>\n",
       "    <tr>\n",
       "      <th>1</th>\n",
       "      <td>[5, 6]</td>\n",
       "      <td>70</td>\n",
       "      <td>5</td>\n",
       "      <td>6</td>\n",
       "      <td>0</td>\n",
       "      <td>2</td>\n",
       "    </tr>\n",
       "    <tr>\n",
       "      <th>2</th>\n",
       "      <td>[7, 8]</td>\n",
       "      <td>80</td>\n",
       "      <td>7</td>\n",
       "      <td>8</td>\n",
       "      <td>2</td>\n",
       "      <td>1</td>\n",
       "    </tr>\n",
       "  </tbody>\n",
       "</table>\n",
       "</div>"
      ],
      "text/plain": [
       "  retiro_arribo  distancia  est_retiro  est_arribo  trafico_entrante  \\\n",
       "0        [3, 4]         50           3           4                 1   \n",
       "1        [5, 6]         70           5           6                 0   \n",
       "2        [7, 8]         80           7           8                 2   \n",
       "\n",
       "   trafico_salida  \n",
       "0               1  \n",
       "1               2  \n",
       "2               1  "
      ]
     },
     "execution_count": 10,
     "metadata": {},
     "output_type": "execute_result"
    }
   ],
   "source": [
    "# Prueba de función\n",
    "\n",
    "df_rides_dict = {'Ciclo_Estacion_Retiro': [3, 4, 5, 5, 7, 8, 8],\n",
    "                'Ciclo_Estacion_Arribo': [4, 3, 6, 6, 8, 7, 7]}\n",
    "\n",
    "est_dist_dict = {'retiro_arribo': [[3, 4], [5,6], [7,8]], \n",
    "                 'distancia': [50, 70, 80], \n",
    "                 'est_retiro': [3, 5, 7], \n",
    "                 'est_arribo': [4, 6, 8]}\n",
    "\n",
    "df_rides_dict_1_0 = pd.DataFrame(df_rides_dict)\n",
    "\n",
    "est_dist_dict_0_1 = pd.DataFrame(est_dist_dict)\n",
    "\n",
    "fn_viajes_entrada_salida(df_rides_dict_1_0, est_dist_dict_0_1)\n",
    "\n",
    "est_dist_dict_0_1"
   ]
  },
  {
   "cell_type": "markdown",
   "metadata": {},
   "source": [
    "# 1.1 Porcentaje Entradas / Salida"
   ]
  },
  {
   "cell_type": "code",
   "execution_count": 122,
   "metadata": {},
   "outputs": [],
   "source": [
    "# Calculo simple del porcentaje de viajes de ida vs. regreso por pares de estaciones\n",
    "\n",
    "# est_distancias['porcentaje'] = est_distancias['trafico_entrante'] / est_distancias['trafico_salida']"
   ]
  },
  {
   "cell_type": "markdown",
   "metadata": {},
   "source": [
    "# 1.2 Coordenadas Mercator para graficar en Bokeh"
   ]
  },
  {
   "cell_type": "code",
   "execution_count": 11,
   "metadata": {},
   "outputs": [],
   "source": [
    "# Sistema de coordenadas compatible con Bokeh\n",
    "\n",
    "from ast import literal_eval\n",
    "import math\n",
    "\n",
    "def merc(Coords):\n",
    "    Coordinates = literal_eval(Coords)\n",
    "    lat = Coordinates[0]\n",
    "    lon = Coordinates[1]\n",
    "    r_major = 6378137.000\n",
    "    x = r_major * math.radians(lon)\n",
    "    scale = x/lon\n",
    "    y = 180.0/math.pi * math.log(math.tan(math.pi/4.0 + lat * (math.pi/180.0)/2.0)) * scale\n",
    "    return (x, y)\n",
    "\n",
    "def make_tuple_str(x, y):\n",
    "    t = (x, y)\n",
    "    return str(t)"
   ]
  },
  {
   "cell_type": "code",
   "execution_count": 12,
   "metadata": {},
   "outputs": [
    {
     "data": {
      "text/plain": [
       "(-11040851.219314644, 2206048.982070499)"
      ]
     },
     "execution_count": 12,
     "metadata": {},
     "output_type": "execute_result"
    }
   ],
   "source": [
    "# prueba de función \n",
    "merc(make_tuple_str(19.433571, -99.181654))"
   ]
  },
  {
   "cell_type": "code",
   "execution_count": null,
   "metadata": {},
   "outputs": [],
   "source": [
    "######\n",
    "Corre mas pruebas para encontrar método sin chaining.\n",
    "######\n"
   ]
  },
  {
   "cell_type": "code",
   "execution_count": 13,
   "metadata": {},
   "outputs": [],
   "source": [
    "# Esta función agrega coordenadas estilo mercator para visualización en Bokeh\n",
    "\n",
    "def fn_coor_para_bokeh(dataframe):\n",
    "    merc_lat = []\n",
    "    merc_lon = []\n",
    "   # mercator_2 = []\n",
    "    for i in tqdm(range(len(dataframe))):\n",
    "        mercator = merc(make_tuple_str(dataframe['lat'][i], dataframe['lon'][i]))\n",
    "        merc_lat.append(mercator[0])\n",
    "        merc_lon.append(mercator[1])\n",
    "  #      mercator_2.append(mercator)\n",
    "    \n",
    "#    dict_merc = {'merc_lat': merc_lat, 'merc_lon': merc_lon}\n",
    " #   df_merc = pd.DataFrame(dict_merc)\n",
    "\n",
    "  #  dataframe['merc_lat'] = df_merc['merc_lat']\n",
    "   # dataframe['merc_lon'] = df_merc['merc_lon']\n",
    "#    dataframe['mercator'] = mercator_2  \n",
    "    dataframe['merc_lat'] = merc_lat\n",
    "    dataframe['merc_lon'] = merc_lon\n",
    "\n",
    "# est_mini['merc_lat'] = est_mini.apply(lambda x: merc(make_tuple_str(x['lat'], x['lon']))[0], axis = 1)\n",
    "# est_mini['merc_lon'] = est_mini.apply(lambda x: merc(make_tuple_str(x['lat'], x['lon']))[1], axis = 1)\n",
    "    "
   ]
  },
  {
   "cell_type": "code",
   "execution_count": 14,
   "metadata": {
    "scrolled": true
   },
   "outputs": [
    {
     "name": "stderr",
     "output_type": "stream",
     "text": [
      "100%|██████████| 3/3 [00:00<00:00, 1480.69it/s]\n",
      "/Users/franciscopatino/anaconda3/lib/python3.6/site-packages/ipykernel_launcher.py:19: SettingWithCopyWarning: \n",
      "A value is trying to be set on a copy of a slice from a DataFrame.\n",
      "Try using .loc[row_indexer,col_indexer] = value instead\n",
      "\n",
      "See the caveats in the documentation: http://pandas.pydata.org/pandas-docs/stable/indexing.html#indexing-view-versus-copy\n",
      "/Users/franciscopatino/anaconda3/lib/python3.6/site-packages/ipykernel_launcher.py:20: SettingWithCopyWarning: \n",
      "A value is trying to be set on a copy of a slice from a DataFrame.\n",
      "Try using .loc[row_indexer,col_indexer] = value instead\n",
      "\n",
      "See the caveats in the documentation: http://pandas.pydata.org/pandas-docs/stable/indexing.html#indexing-view-versus-copy\n"
     ]
    },
    {
     "data": {
      "text/html": [
       "<div>\n",
       "<style scoped>\n",
       "    .dataframe tbody tr th:only-of-type {\n",
       "        vertical-align: middle;\n",
       "    }\n",
       "\n",
       "    .dataframe tbody tr th {\n",
       "        vertical-align: top;\n",
       "    }\n",
       "\n",
       "    .dataframe thead th {\n",
       "        text-align: right;\n",
       "    }\n",
       "</style>\n",
       "<table border=\"1\" class=\"dataframe\">\n",
       "  <thead>\n",
       "    <tr style=\"text-align: right;\">\n",
       "      <th></th>\n",
       "      <th>id</th>\n",
       "      <th>lat</th>\n",
       "      <th>lon</th>\n",
       "      <th>name</th>\n",
       "      <th>merc_lat</th>\n",
       "      <th>merc_lon</th>\n",
       "    </tr>\n",
       "  </thead>\n",
       "  <tbody>\n",
       "    <tr>\n",
       "      <th>0</th>\n",
       "      <td>1</td>\n",
       "      <td>19.433571</td>\n",
       "      <td>-99.167809</td>\n",
       "      <td>1 RIO SENA-RIO BALSAS</td>\n",
       "      <td>-1.103931e+07</td>\n",
       "      <td>2.206049e+06</td>\n",
       "    </tr>\n",
       "    <tr>\n",
       "      <th>1</th>\n",
       "      <td>2</td>\n",
       "      <td>19.431386</td>\n",
       "      <td>-99.171695</td>\n",
       "      <td>2 RIO GUADALQUIVIR-RIO BALSAS</td>\n",
       "      <td>-1.103974e+07</td>\n",
       "      <td>2.205791e+06</td>\n",
       "    </tr>\n",
       "    <tr>\n",
       "      <th>2</th>\n",
       "      <td>3</td>\n",
       "      <td>19.431655</td>\n",
       "      <td>-99.158668</td>\n",
       "      <td>3 REFORMA-INSURGENTES</td>\n",
       "      <td>-1.103829e+07</td>\n",
       "      <td>2.205823e+06</td>\n",
       "    </tr>\n",
       "  </tbody>\n",
       "</table>\n",
       "</div>"
      ],
      "text/plain": [
       "   id        lat        lon                           name      merc_lat  \\\n",
       "0   1  19.433571 -99.167809          1 RIO SENA-RIO BALSAS -1.103931e+07   \n",
       "1   2  19.431386 -99.171695  2 RIO GUADALQUIVIR-RIO BALSAS -1.103974e+07   \n",
       "2   3  19.431655 -99.158668          3 REFORMA-INSURGENTES -1.103829e+07   \n",
       "\n",
       "       merc_lon  \n",
       "0  2.206049e+06  \n",
       "1  2.205791e+06  \n",
       "2  2.205823e+06  "
      ]
     },
     "execution_count": 14,
     "metadata": {},
     "output_type": "execute_result"
    }
   ],
   "source": [
    "#prueba de funcion\n",
    "\n",
    "est_mini = estaciones_lonlat.loc[estaciones_lonlat.id < 4]\n",
    "\n",
    "fn_coor_para_bokeh(est_mini)\n",
    "\n",
    "est_mini"
   ]
  },
  {
   "cell_type": "code",
   "execution_count": 15,
   "metadata": {},
   "outputs": [
    {
     "name": "stderr",
     "output_type": "stream",
     "text": [
      "100%|██████████| 480/480 [00:00<00:00, 12861.44it/s]\n"
     ]
    }
   ],
   "source": [
    "fn_coor_para_bokeh(estaciones_lonlat)"
   ]
  },
  {
   "cell_type": "code",
   "execution_count": 16,
   "metadata": {},
   "outputs": [
    {
     "data": {
      "text/html": [
       "<div>\n",
       "<style scoped>\n",
       "    .dataframe tbody tr th:only-of-type {\n",
       "        vertical-align: middle;\n",
       "    }\n",
       "\n",
       "    .dataframe tbody tr th {\n",
       "        vertical-align: top;\n",
       "    }\n",
       "\n",
       "    .dataframe thead th {\n",
       "        text-align: right;\n",
       "    }\n",
       "</style>\n",
       "<table border=\"1\" class=\"dataframe\">\n",
       "  <thead>\n",
       "    <tr style=\"text-align: right;\">\n",
       "      <th></th>\n",
       "      <th>id</th>\n",
       "      <th>lat</th>\n",
       "      <th>lon</th>\n",
       "      <th>name</th>\n",
       "      <th>merc_lat</th>\n",
       "      <th>merc_lon</th>\n",
       "    </tr>\n",
       "  </thead>\n",
       "  <tbody>\n",
       "    <tr>\n",
       "      <th>0</th>\n",
       "      <td>1</td>\n",
       "      <td>19.433571</td>\n",
       "      <td>-99.167809</td>\n",
       "      <td>1 RIO SENA-RIO BALSAS</td>\n",
       "      <td>-1.103931e+07</td>\n",
       "      <td>2.206049e+06</td>\n",
       "    </tr>\n",
       "    <tr>\n",
       "      <th>1</th>\n",
       "      <td>2</td>\n",
       "      <td>19.431386</td>\n",
       "      <td>-99.171695</td>\n",
       "      <td>2 RIO GUADALQUIVIR-RIO BALSAS</td>\n",
       "      <td>-1.103974e+07</td>\n",
       "      <td>2.205791e+06</td>\n",
       "    </tr>\n",
       "    <tr>\n",
       "      <th>2</th>\n",
       "      <td>3</td>\n",
       "      <td>19.431655</td>\n",
       "      <td>-99.158668</td>\n",
       "      <td>3 REFORMA-INSURGENTES</td>\n",
       "      <td>-1.103829e+07</td>\n",
       "      <td>2.205823e+06</td>\n",
       "    </tr>\n",
       "    <tr>\n",
       "      <th>3</th>\n",
       "      <td>4</td>\n",
       "      <td>19.428309</td>\n",
       "      <td>-99.171713</td>\n",
       "      <td>4 RIO NILO-RIO PANUCO</td>\n",
       "      <td>-1.103974e+07</td>\n",
       "      <td>2.205428e+06</td>\n",
       "    </tr>\n",
       "    <tr>\n",
       "      <th>4</th>\n",
       "      <td>5</td>\n",
       "      <td>19.429720</td>\n",
       "      <td>-99.169363</td>\n",
       "      <td>5 RIO PANUCO-RIO TIBER</td>\n",
       "      <td>-1.103948e+07</td>\n",
       "      <td>2.205594e+06</td>\n",
       "    </tr>\n",
       "  </tbody>\n",
       "</table>\n",
       "</div>"
      ],
      "text/plain": [
       "   id        lat        lon                           name      merc_lat  \\\n",
       "0   1  19.433571 -99.167809          1 RIO SENA-RIO BALSAS -1.103931e+07   \n",
       "1   2  19.431386 -99.171695  2 RIO GUADALQUIVIR-RIO BALSAS -1.103974e+07   \n",
       "2   3  19.431655 -99.158668          3 REFORMA-INSURGENTES -1.103829e+07   \n",
       "3   4  19.428309 -99.171713          4 RIO NILO-RIO PANUCO -1.103974e+07   \n",
       "4   5  19.429720 -99.169363         5 RIO PANUCO-RIO TIBER -1.103948e+07   \n",
       "\n",
       "       merc_lon  \n",
       "0  2.206049e+06  \n",
       "1  2.205791e+06  \n",
       "2  2.205823e+06  \n",
       "3  2.205428e+06  \n",
       "4  2.205594e+06  "
      ]
     },
     "execution_count": 16,
     "metadata": {},
     "output_type": "execute_result"
    }
   ],
   "source": [
    "estaciones_lonlat.head()"
   ]
  },
  {
   "cell_type": "markdown",
   "metadata": {},
   "source": [
    "# 1.3 Coordenadas DF y vector"
   ]
  },
  {
   "cell_type": "markdown",
   "metadata": {},
   "source": [
    "# 1.4 Vectores"
   ]
  },
  {
   "cell_type": "code",
   "execution_count": 23,
   "metadata": {},
   "outputs": [],
   "source": [
    "# Función para encontrar un vector entre dos estaciones segun magnitud.\n",
    "# La distancia de la flecha se aproxima al 100% entre ambos puntos según el porcentaje\n",
    "\n",
    "import math \n",
    "\n",
    "def fn_vector(x0, y0, x1, y1):\n",
    "    #slope \n",
    "    try:\n",
    "        m = abs((y1 - y0)/(x1 - x0))\n",
    "        \n",
    "    except:\n",
    "        m = 0\n",
    "        \n",
    "    dist = 1\n",
    " #   print(x0,y0,x1,y1)\n",
    "    # coord Y\n",
    "    if y0 > y1:\n",
    "        y_3 = - m*dist*math.sqrt(1/(1+m**2))\n",
    "    elif y0 < y1:\n",
    "        y_3 = + m*dist*math.sqrt(1/(1+m**2))\n",
    "    elif y0 == y1:\n",
    "        y_3 = 0\n",
    "    # coord X\n",
    "    if x0 > x1:\n",
    "        x_3 = - dist*math.sqrt(1/(1+m**2))\n",
    "    elif x0 < x1:\n",
    "        x_3 = + dist*math.sqrt(1/(1+m**2))\n",
    "    elif x0 == x1:        \n",
    "        x_3 = 0\n",
    "\n",
    "        # Contingencia para coordenadas sobre la misma coordenada X\n",
    "        if y0 > y1:        \n",
    "            y_3 = 0 - abs((y1 - y0))\n",
    "        elif y0 < y1:\n",
    "            y_3 = 0 + abs((y1 - y0)) \n",
    " \n",
    "    return x_3, y_3"
   ]
  },
  {
   "cell_type": "code",
   "execution_count": 22,
   "metadata": {},
   "outputs": [
    {
     "data": {
      "text/plain": [
       "(0.7071067811865476, 0.7071067811865476)"
      ]
     },
     "execution_count": 22,
     "metadata": {},
     "output_type": "execute_result"
    }
   ],
   "source": [
    "# prueba de función\n",
    "\n",
    "fn_vector_fijo(2,2,4,4)"
   ]
  },
  {
   "cell_type": "code",
   "execution_count": 24,
   "metadata": {
    "scrolled": true
   },
   "outputs": [],
   "source": [
    "# Esta función agrega lo que son la coordenadas de la estación salida, y coord de\n",
    "# Un punto XX% entre ella y la estación destino. \n",
    "#### IMPORTANTE ####\n",
    "# Como provisional, se calcula con Velocidad / Promedio velocidad total\n",
    "\n",
    "def fn_vector_trafico(df_est_dist, df_mercator):\n",
    "    est_lat_ret = []\n",
    "    est_lon_ret = []\n",
    "    vec_lat_arr = []\n",
    "    vec_lon_arr = []\n",
    "    latitude_arr_coord = []\n",
    "    longitud_arr_coord = []\n",
    "    porcentaje = []\n",
    "    \n",
    "    for i in tqdm(range(len(df_est_dist))):\n",
    "\n",
    "        est_retiro = df_est_dist['est_retiro'][i]\n",
    "        est_arribo = df_est_dist['est_arribo'][i]\n",
    "        \n",
    "        lat_ret = df_mercator.loc[df_mercator['id'] == est_retiro, 'merc_lat'].values[0]\n",
    "        lon_ret = df_mercator.loc[df_mercator['id'] == est_retiro, 'merc_lon'].values[0]\n",
    " \n",
    "        # Este try/except es para capturar a viajes donde se regresa la bicicleta a la misma\n",
    "        # estación.\n",
    "        \n",
    "        try:\n",
    "            lat_arr = df_mercator.loc[df_mercator['id'] == est_arribo, 'merc_lat'].values[0]\n",
    "            lon_arr = df_mercator.loc[df_mercator['id'] == est_arribo, 'merc_lon'].values[0]\n",
    "        except:\n",
    "            lat_arr = lat_ret\n",
    "            lon_arr = lon_ret\n",
    "        est_lat_ret.append(lat_ret)\n",
    "        est_lon_ret.append(lon_ret)\n",
    "        latitude_arr_coord.append(lat_arr)\n",
    "        longitud_arr_coord.append(lon_arr)\n",
    "        \n",
    "        # Este bloque es para manejar situaciones cuando una estación no registra ninguna salida.\n",
    "        \n",
    "        try:\n",
    "            if (df_est_dist['trafico_entrante'][i] != 0):\n",
    "                flujo_pct = (df_est_dist['trafico_salida'][i]) / (df_est_dist['trafico_entrante'][i] + df_est_dist['trafico_salida'][i])\n",
    "            else:\n",
    "                flujo_pct = 0    \n",
    "        except:\n",
    "            flujo_pct = 0\n",
    "            \n",
    "        porcentaje.append(flujo_pct)    \n",
    "        lat_arr, lon_arr = fn_vector(lat_ret, lon_ret, lat_arr, lon_arr)\n",
    "        vec_lat_arr.append(lat_arr)\n",
    "        vec_lon_arr.append(lon_arr)\n",
    "                \n",
    "    df_est_dist['lat_ret'] = est_lat_ret\n",
    "    df_est_dist['lon_ret'] = est_lon_ret\n",
    "    df_est_dist['lat_vct'] = vec_lat_arr\n",
    "    df_est_dist['lon_vct'] = vec_lon_arr\n",
    "    df_est_dist['lat_arr'] = latitude_arr_coord\n",
    "    df_est_dist['lon_arr'] = longitud_arr_coord\n",
    "    df_est_dist['flujo_pct'] = porcentaje\n"
   ]
  },
  {
   "cell_type": "code",
   "execution_count": 25,
   "metadata": {},
   "outputs": [
    {
     "name": "stderr",
     "output_type": "stream",
     "text": [
      "100%|██████████| 7/7 [00:00<00:00, 332.32it/s]\n"
     ]
    },
    {
     "data": {
      "text/html": [
       "<div>\n",
       "<style scoped>\n",
       "    .dataframe tbody tr th:only-of-type {\n",
       "        vertical-align: middle;\n",
       "    }\n",
       "\n",
       "    .dataframe tbody tr th {\n",
       "        vertical-align: top;\n",
       "    }\n",
       "\n",
       "    .dataframe thead th {\n",
       "        text-align: right;\n",
       "    }\n",
       "</style>\n",
       "<table border=\"1\" class=\"dataframe\">\n",
       "  <thead>\n",
       "    <tr style=\"text-align: right;\">\n",
       "      <th></th>\n",
       "      <th>retiro_arribo</th>\n",
       "      <th>est_retiro</th>\n",
       "      <th>est_arribo</th>\n",
       "      <th>trafico_salida</th>\n",
       "      <th>trafico_entrante</th>\n",
       "      <th>lat_ret</th>\n",
       "      <th>lon_ret</th>\n",
       "      <th>lat_vct</th>\n",
       "      <th>lon_vct</th>\n",
       "      <th>lat_arr</th>\n",
       "      <th>lon_arr</th>\n",
       "      <th>flujo_pct</th>\n",
       "    </tr>\n",
       "  </thead>\n",
       "  <tbody>\n",
       "    <tr>\n",
       "      <th>0</th>\n",
       "      <td>[3, 1]</td>\n",
       "      <td>3</td>\n",
       "      <td>1</td>\n",
       "      <td>10</td>\n",
       "      <td>0</td>\n",
       "      <td>-1.103829e+07</td>\n",
       "      <td>2.205823e+06</td>\n",
       "      <td>-0.976169</td>\n",
       "      <td>0.217013</td>\n",
       "      <td>-1.103931e+07</td>\n",
       "      <td>2.206049e+06</td>\n",
       "      <td>0.0</td>\n",
       "    </tr>\n",
       "    <tr>\n",
       "      <th>1</th>\n",
       "      <td>[4, 2]</td>\n",
       "      <td>4</td>\n",
       "      <td>2</td>\n",
       "      <td>9</td>\n",
       "      <td>1</td>\n",
       "      <td>-1.103974e+07</td>\n",
       "      <td>2.205428e+06</td>\n",
       "      <td>0.005517</td>\n",
       "      <td>0.999985</td>\n",
       "      <td>-1.103974e+07</td>\n",
       "      <td>2.205791e+06</td>\n",
       "      <td>0.9</td>\n",
       "    </tr>\n",
       "    <tr>\n",
       "      <th>2</th>\n",
       "      <td>[5, 3]</td>\n",
       "      <td>5</td>\n",
       "      <td>3</td>\n",
       "      <td>8</td>\n",
       "      <td>2</td>\n",
       "      <td>-1.103948e+07</td>\n",
       "      <td>2.205594e+06</td>\n",
       "      <td>0.982089</td>\n",
       "      <td>0.188416</td>\n",
       "      <td>-1.103829e+07</td>\n",
       "      <td>2.205823e+06</td>\n",
       "      <td>0.8</td>\n",
       "    </tr>\n",
       "    <tr>\n",
       "      <th>3</th>\n",
       "      <td>[6, 4]</td>\n",
       "      <td>6</td>\n",
       "      <td>4</td>\n",
       "      <td>7</td>\n",
       "      <td>3</td>\n",
       "      <td>-1.103922e+07</td>\n",
       "      <td>2.205736e+06</td>\n",
       "      <td>-0.863966</td>\n",
       "      <td>-0.503549</td>\n",
       "      <td>-1.103974e+07</td>\n",
       "      <td>2.205428e+06</td>\n",
       "      <td>0.7</td>\n",
       "    </tr>\n",
       "    <tr>\n",
       "      <th>4</th>\n",
       "      <td>[7, 5]</td>\n",
       "      <td>7</td>\n",
       "      <td>5</td>\n",
       "      <td>6</td>\n",
       "      <td>4</td>\n",
       "      <td>-1.104013e+07</td>\n",
       "      <td>2.205092e+06</td>\n",
       "      <td>0.789664</td>\n",
       "      <td>0.613540</td>\n",
       "      <td>-1.103948e+07</td>\n",
       "      <td>2.205594e+06</td>\n",
       "      <td>0.6</td>\n",
       "    </tr>\n",
       "  </tbody>\n",
       "</table>\n",
       "</div>"
      ],
      "text/plain": [
       "  retiro_arribo  est_retiro  est_arribo  trafico_salida  trafico_entrante  \\\n",
       "0        [3, 1]           3           1              10                 0   \n",
       "1        [4, 2]           4           2               9                 1   \n",
       "2        [5, 3]           5           3               8                 2   \n",
       "3        [6, 4]           6           4               7                 3   \n",
       "4        [7, 5]           7           5               6                 4   \n",
       "\n",
       "        lat_ret       lon_ret   lat_vct   lon_vct       lat_arr       lon_arr  \\\n",
       "0 -1.103829e+07  2.205823e+06 -0.976169  0.217013 -1.103931e+07  2.206049e+06   \n",
       "1 -1.103974e+07  2.205428e+06  0.005517  0.999985 -1.103974e+07  2.205791e+06   \n",
       "2 -1.103948e+07  2.205594e+06  0.982089  0.188416 -1.103829e+07  2.205823e+06   \n",
       "3 -1.103922e+07  2.205736e+06 -0.863966 -0.503549 -1.103974e+07  2.205428e+06   \n",
       "4 -1.104013e+07  2.205092e+06  0.789664  0.613540 -1.103948e+07  2.205594e+06   \n",
       "\n",
       "   flujo_pct  \n",
       "0        0.0  \n",
       "1        0.9  \n",
       "2        0.8  \n",
       "3        0.7  \n",
       "4        0.6  "
      ]
     },
     "execution_count": 25,
     "metadata": {},
     "output_type": "execute_result"
    }
   ],
   "source": [
    "# Prueba de función\n",
    "\n",
    "df_rides_dict_2 = {'retiro_arribo': [[3,1], [4,2], [5,3], [6,4], [7,5], [8,6], [9,7]],\n",
    "                   'est_retiro': [3, 4, 5, 6, 7, 8, 9],\n",
    "                   'est_arribo': [1, 2, 3, 4, 5, 6, 7],\n",
    "                   'trafico_salida': [10, 9, 8, 7, 6, 5, 4],\n",
    "                   'trafico_entrante': [0, 1, 2, 3, 4, 5, 6]}\n",
    "\n",
    "df_rides_df_1_2 = pd.DataFrame(df_rides_dict_2)\n",
    "\n",
    "fn_vector_trafico(df_rides_df_1_2, estaciones_lonlat)\n",
    "\n",
    "df_rides_df_1_2.head()"
   ]
  },
  {
   "cell_type": "markdown",
   "metadata": {},
   "source": [
    "# 2.0 Ejecutando funciones"
   ]
  },
  {
   "cell_type": "code",
   "execution_count": 26,
   "metadata": {},
   "outputs": [
    {
     "name": "stderr",
     "output_type": "stream",
     "text": [
      "100%|██████████| 115440/115440 [13:45<00:00, 139.87it/s]\n"
     ]
    }
   ],
   "source": [
    "fn_viajes_entrada_salida(df_viajes, est_distancias)"
   ]
  },
  {
   "cell_type": "code",
   "execution_count": 28,
   "metadata": {},
   "outputs": [
    {
     "data": {
      "text/html": [
       "<div>\n",
       "<style scoped>\n",
       "    .dataframe tbody tr th:only-of-type {\n",
       "        vertical-align: middle;\n",
       "    }\n",
       "\n",
       "    .dataframe tbody tr th {\n",
       "        vertical-align: top;\n",
       "    }\n",
       "\n",
       "    .dataframe thead th {\n",
       "        text-align: right;\n",
       "    }\n",
       "</style>\n",
       "<table border=\"1\" class=\"dataframe\">\n",
       "  <thead>\n",
       "    <tr style=\"text-align: right;\">\n",
       "      <th></th>\n",
       "      <th>Genero_Usuario</th>\n",
       "      <th>Edad_Usuario</th>\n",
       "      <th>Bici</th>\n",
       "      <th>Ciclo_Estacion_Retiro</th>\n",
       "      <th>Fecha_Retiro</th>\n",
       "      <th>Hora_Retiro</th>\n",
       "      <th>Ciclo_Estacion_Arribo</th>\n",
       "      <th>Fecha_Arribo</th>\n",
       "      <th>Hora_Arribo</th>\n",
       "    </tr>\n",
       "  </thead>\n",
       "  <tbody>\n",
       "    <tr>\n",
       "      <th>0</th>\n",
       "      <td>M</td>\n",
       "      <td>49</td>\n",
       "      <td>3307</td>\n",
       "      <td>365</td>\n",
       "      <td>01/03/2018</td>\n",
       "      <td>0:00:10</td>\n",
       "      <td>169</td>\n",
       "      <td>01/03/2018</td>\n",
       "      <td>0:13:05</td>\n",
       "    </tr>\n",
       "    <tr>\n",
       "      <th>1</th>\n",
       "      <td>F</td>\n",
       "      <td>29</td>\n",
       "      <td>9218</td>\n",
       "      <td>137</td>\n",
       "      <td>01/03/2018</td>\n",
       "      <td>0:00:13</td>\n",
       "      <td>308</td>\n",
       "      <td>01/03/2018</td>\n",
       "      <td>0:18:34</td>\n",
       "    </tr>\n",
       "    <tr>\n",
       "      <th>2</th>\n",
       "      <td>F</td>\n",
       "      <td>30</td>\n",
       "      <td>3945</td>\n",
       "      <td>54</td>\n",
       "      <td>01/03/2018</td>\n",
       "      <td>0:00:17</td>\n",
       "      <td>191</td>\n",
       "      <td>01/03/2018</td>\n",
       "      <td>0:12:13</td>\n",
       "    </tr>\n",
       "    <tr>\n",
       "      <th>3</th>\n",
       "      <td>M</td>\n",
       "      <td>25</td>\n",
       "      <td>9971</td>\n",
       "      <td>130</td>\n",
       "      <td>01/03/2018</td>\n",
       "      <td>0:00:47</td>\n",
       "      <td>271</td>\n",
       "      <td>01/03/2018</td>\n",
       "      <td>0:12:40</td>\n",
       "    </tr>\n",
       "    <tr>\n",
       "      <th>4</th>\n",
       "      <td>M</td>\n",
       "      <td>20</td>\n",
       "      <td>10551</td>\n",
       "      <td>415</td>\n",
       "      <td>01/03/2018</td>\n",
       "      <td>0:00:56</td>\n",
       "      <td>433</td>\n",
       "      <td>01/03/2018</td>\n",
       "      <td>0:05:18</td>\n",
       "    </tr>\n",
       "  </tbody>\n",
       "</table>\n",
       "</div>"
      ],
      "text/plain": [
       "  Genero_Usuario  Edad_Usuario   Bici  Ciclo_Estacion_Retiro Fecha_Retiro  \\\n",
       "0              M            49   3307                    365   01/03/2018   \n",
       "1              F            29   9218                    137   01/03/2018   \n",
       "2              F            30   3945                     54   01/03/2018   \n",
       "3              M            25   9971                    130   01/03/2018   \n",
       "4              M            20  10551                    415   01/03/2018   \n",
       "\n",
       "  Hora_Retiro  Ciclo_Estacion_Arribo Fecha_Arribo Hora_Arribo  \n",
       "0     0:00:10                    169   01/03/2018     0:13:05  \n",
       "1     0:00:13                    308   01/03/2018     0:18:34  \n",
       "2     0:00:17                    191   01/03/2018     0:12:13  \n",
       "3     0:00:47                    271   01/03/2018     0:12:40  \n",
       "4     0:00:56                    433   01/03/2018     0:05:18  "
      ]
     },
     "execution_count": 28,
     "metadata": {},
     "output_type": "execute_result"
    }
   ],
   "source": [
    "df_viajes.head()"
   ]
  },
  {
   "cell_type": "code",
   "execution_count": 29,
   "metadata": {},
   "outputs": [
    {
     "name": "stderr",
     "output_type": "stream",
     "text": [
      "  0%|          | 0/115440 [00:00<?, ?it/s]/Users/franciscopatino/anaconda3/lib/python3.6/site-packages/ipykernel_launcher.py:9: RuntimeWarning: invalid value encountered in double_scalars\n",
      "  if __name__ == '__main__':\n",
      " 75%|███████▍  | 86144/115440 [02:18<00:43, 666.23it/s]/Users/franciscopatino/anaconda3/lib/python3.6/site-packages/ipykernel_launcher.py:9: RuntimeWarning: divide by zero encountered in double_scalars\n",
      "  if __name__ == '__main__':\n",
      "/Users/franciscopatino/anaconda3/lib/python3.6/site-packages/ipykernel_launcher.py:18: RuntimeWarning: invalid value encountered in double_scalars\n",
      "100%|██████████| 115440/115440 [03:22<00:00, 570.51it/s]\n"
     ]
    }
   ],
   "source": [
    "fn_vector_trafico(est_distancias, estaciones_lonlat)"
   ]
  },
  {
   "cell_type": "code",
   "execution_count": 31,
   "metadata": {},
   "outputs": [
    {
     "data": {
      "text/plain": [
       "(-0.05919822833593107, -0.9982462470562496)"
      ]
     },
     "execution_count": 31,
     "metadata": {},
     "output_type": "execute_result"
    }
   ],
   "source": [
    "fn_vector(est_distancias.loc[86129]['lat_ret'], est_distancias.loc[86129]['lon_ret'],\n",
    "         est_distancias.loc[86129]['lat_arr'],est_distancias.loc[86129]['lon_arr'])\n",
    "#est_distancias.loc[86129]['lat_ret']"
   ]
  },
  {
   "cell_type": "code",
   "execution_count": 341,
   "metadata": {},
   "outputs": [
    {
     "data": {
      "text/plain": [
       "retiro_arribo        [239, 331]\n",
       "distancia                4.6345\n",
       "est_retiro                  239\n",
       "est_arribo                  331\n",
       "trafico_entrante              0\n",
       "trafico_salida                0\n",
       "porcentaje                  NaN\n",
       "lat_ret            -1.10408e+07\n",
       "lon_ret             2.20565e+06\n",
       "lat_vct                       0\n",
       "lon_vct                       0\n",
       "flujo_pct                     0\n",
       "lat_arr            -1.10411e+07\n",
       "lon_arr             2.20073e+06\n",
       "Name: 86129, dtype: object"
      ]
     },
     "execution_count": 341,
     "metadata": {},
     "output_type": "execute_result"
    }
   ],
   "source": [
    "est_distancias.loc[86129]"
   ]
  },
  {
   "cell_type": "markdown",
   "metadata": {},
   "source": [
    "# 3.0 Exportar"
   ]
  },
  {
   "cell_type": "code",
   "execution_count": 32,
   "metadata": {},
   "outputs": [],
   "source": [
    "est_distancias.to_csv('0_1_dist_y_trafico_esvelto_4.csv', index=False)"
   ]
  },
  {
   "cell_type": "code",
   "execution_count": null,
   "metadata": {},
   "outputs": [],
   "source": []
  }
 ],
 "metadata": {
  "kernelspec": {
   "display_name": "Python 3",
   "language": "python",
   "name": "python3"
  },
  "language_info": {
   "codemirror_mode": {
    "name": "ipython",
    "version": 3
   },
   "file_extension": ".py",
   "mimetype": "text/x-python",
   "name": "python",
   "nbconvert_exporter": "python",
   "pygments_lexer": "ipython3",
   "version": "3.6.5"
  }
 },
 "nbformat": 4,
 "nbformat_minor": 2
}
