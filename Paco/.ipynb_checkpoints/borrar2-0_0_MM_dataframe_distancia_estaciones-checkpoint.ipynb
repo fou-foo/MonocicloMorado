{
 "cells": [
  {
   "cell_type": "markdown",
   "metadata": {},
   "source": [
    "# 0.0 Cargar Dataframes"
   ]
  },
  {
   "cell_type": "code",
   "execution_count": 1,
   "metadata": {},
   "outputs": [],
   "source": [
    "import pandas as pd"
   ]
  },
  {
   "cell_type": "code",
   "execution_count": 2,
   "metadata": {},
   "outputs": [
    {
     "name": "stderr",
     "output_type": "stream",
     "text": [
      "/Users/franciscopatino/anaconda3/lib/python3.6/site-packages/IPython/core/interactiveshell.py:2785: DtypeWarning: Columns (2) have mixed types. Specify dtype option on import or set low_memory=False.\n",
      "  interactivity=interactivity, compiler=compiler, result=result)\n"
     ]
    }
   ],
   "source": [
    "df = pd.read_csv('0_1_df_viajes_marzo.csv')\n",
    "\n",
    "#estaciones = pd.read_csv('Distancia_entre_estaciones_con_1002.csv')\n",
    "\n",
    "estaciones = pd.read_csv('stations.csv')"
   ]
  },
  {
   "cell_type": "markdown",
   "metadata": {},
   "source": [
    "# 0.1 Agregar estación 1002"
   ]
  },
  {
   "cell_type": "code",
   "execution_count": 3,
   "metadata": {},
   "outputs": [],
   "source": [
    "# inserta la estacion 1002. Coordenadas hipoteticas basadas en punto central de todos los destinos de esa estacion\n",
    "\n",
    "estacion_1002 = {'id': 1002, 'lat': 19.42527836428572, 'lon': -99.1695673232143, \n",
    "                 'name': '1002 La estación fantásma del Profesor Layton'}\n",
    " \n",
    "estaciones = estaciones.append(estacion_1002, ignore_index=True)"
   ]
  },
  {
   "cell_type": "markdown",
   "metadata": {},
   "source": [
    "# 0.2 Limpia datos en dataframe"
   ]
  },
  {
   "cell_type": "code",
   "execution_count": 4,
   "metadata": {},
   "outputs": [],
   "source": [
    "df = df.astype({'Bici': str})\n",
    "\n",
    "# estaciones = estaciones.astype({'id': int})"
   ]
  },
  {
   "cell_type": "markdown",
   "metadata": {},
   "source": [
    "# 1.0 Funciónes de geolocalización y distancia"
   ]
  },
  {
   "cell_type": "code",
   "execution_count": 5,
   "metadata": {},
   "outputs": [],
   "source": [
    "# https://kanoki.org/2019/02/14/how-to-find-distance-between-two-points-based-on-latitude-and-longitude-using-python-and-sql/\n",
    "\n",
    "from math import radians, cos, sin, asin, sqrt\n",
    "\n",
    "def haversine(lon1, lat1, lon2, lat2):\n",
    "    # convert decimal degrees to radians \n",
    "    lon1, lat1, lon2, lat2 = map(radians, [lon1, lat1, lon2, lat2])\n",
    "\n",
    "    # haversine formula \n",
    "    dlon = lon2 - lon1 \n",
    "    dlat = lat2 - lat1 \n",
    "    a = sin(dlat/2)**2 + cos(lat1) * cos(lat2) * sin(dlon/2)**2\n",
    "    c = 2 * asin(sqrt(a)) \n",
    "    r = 6371 # Radius of earth in kilometers. Use 3956 for miles\n",
    "    return c * r"
   ]
  },
  {
   "cell_type": "code",
   "execution_count": 68,
   "metadata": {},
   "outputs": [],
   "source": [
    "# Esta función genera un dataframe con cada combinación de pares de estaciones \n",
    "# SIN IMPORTAR ORDEN. Es decir, todas las combinaciones de [1,2,3] = (1, 2), (1, 3), (2, 3), (1,1), (2,2), (3,3)\n",
    "# Y usa la función Haversine para calcular la distancia entre ellas sobre una esfera.\n",
    "# A pesar de que las columnas dicen Retiro / Arribo, funcionalmente es lo mismo.\n",
    "\n",
    "import itertools\n",
    "\n",
    "def fn_dist_estaciones(dataframe):\n",
    "    \n",
    "    id_estaciones = dataframe.id.unique()\n",
    "    comb_estaciones = list(itertools.combinations_with_replacement(id_estaciones, 2))\n",
    "\n",
    "    par_estaciones = []\n",
    "    distancia_list = []\n",
    "    \n",
    "    for combo in tqdm(range(len(comb_estaciones))):\n",
    "        lon1 = dataframe.loc[dataframe['id'] == comb_estaciones[combo][0], 'lon'].values[0]\n",
    "        lat1 = dataframe.loc[dataframe['id'] == comb_estaciones[combo][0], 'lat'].values[0]\n",
    "        lon2 = dataframe.loc[dataframe['id'] == comb_estaciones[combo][1], 'lon'].values[0]\n",
    "        lat2 = dataframe.loc[dataframe['id'] == comb_estaciones[combo][1], 'lat'].values[0]\n",
    "        distancia = haversine(lon1, lat1, lon2, lat2)\n",
    "        distancia_list.append(distancia)\n",
    "            \n",
    "    distancia_dict = {'retiro_arribo': comb_estaciones, 'distancia': distancia_list}  \n",
    "\n",
    "    df_distancias = pd.DataFrame(distancia_dict)\n",
    "    df_distancias['est_retiro'] = df_distancias.apply(lambda x: (x['retiro_arribo'][0]), axis =  1)\n",
    "    df_distancias['est_arribo'] = df_distancias.apply(lambda x: (x['retiro_arribo'][1]), axis =  1)\n",
    "#    df_distancias.drop('retiro_arribo', axis=1)\n",
    "    \n",
    "    return df_distancias"
   ]
  },
  {
   "cell_type": "code",
   "execution_count": 70,
   "metadata": {},
   "outputs": [
    {
     "name": "stderr",
     "output_type": "stream",
     "text": [
      "100%|██████████| 6/6 [00:00<00:00, 361.40it/s]\n"
     ]
    },
    {
     "data": {
      "text/html": [
       "<div>\n",
       "<style scoped>\n",
       "    .dataframe tbody tr th:only-of-type {\n",
       "        vertical-align: middle;\n",
       "    }\n",
       "\n",
       "    .dataframe tbody tr th {\n",
       "        vertical-align: top;\n",
       "    }\n",
       "\n",
       "    .dataframe thead th {\n",
       "        text-align: right;\n",
       "    }\n",
       "</style>\n",
       "<table border=\"1\" class=\"dataframe\">\n",
       "  <thead>\n",
       "    <tr style=\"text-align: right;\">\n",
       "      <th></th>\n",
       "      <th>retiro_arribo</th>\n",
       "      <th>distancia</th>\n",
       "      <th>est_retiro</th>\n",
       "      <th>est_arribo</th>\n",
       "    </tr>\n",
       "  </thead>\n",
       "  <tbody>\n",
       "    <tr>\n",
       "      <th>0</th>\n",
       "      <td>(1, 1)</td>\n",
       "      <td>0.000000</td>\n",
       "      <td>1</td>\n",
       "      <td>1</td>\n",
       "    </tr>\n",
       "    <tr>\n",
       "      <th>1</th>\n",
       "      <td>(1, 2)</td>\n",
       "      <td>0.474423</td>\n",
       "      <td>1</td>\n",
       "      <td>2</td>\n",
       "    </tr>\n",
       "    <tr>\n",
       "      <th>2</th>\n",
       "      <td>(1, 3)</td>\n",
       "      <td>0.981922</td>\n",
       "      <td>1</td>\n",
       "      <td>3</td>\n",
       "    </tr>\n",
       "    <tr>\n",
       "      <th>3</th>\n",
       "      <td>(2, 2)</td>\n",
       "      <td>0.000000</td>\n",
       "      <td>2</td>\n",
       "      <td>2</td>\n",
       "    </tr>\n",
       "    <tr>\n",
       "      <th>4</th>\n",
       "      <td>(2, 3)</td>\n",
       "      <td>1.366355</td>\n",
       "      <td>2</td>\n",
       "      <td>3</td>\n",
       "    </tr>\n",
       "    <tr>\n",
       "      <th>5</th>\n",
       "      <td>(3, 3)</td>\n",
       "      <td>0.000000</td>\n",
       "      <td>3</td>\n",
       "      <td>3</td>\n",
       "    </tr>\n",
       "  </tbody>\n",
       "</table>\n",
       "</div>"
      ],
      "text/plain": [
       "  retiro_arribo  distancia  est_retiro  est_arribo\n",
       "0        (1, 1)   0.000000           1           1\n",
       "1        (1, 2)   0.474423           1           2\n",
       "2        (1, 3)   0.981922           1           3\n",
       "3        (2, 2)   0.000000           2           2\n",
       "4        (2, 3)   1.366355           2           3\n",
       "5        (3, 3)   0.000000           3           3"
      ]
     },
     "execution_count": 70,
     "metadata": {},
     "output_type": "execute_result"
    }
   ],
   "source": [
    "# Prueba de función\n",
    "\n",
    "estaciones_dist_test_dict = {'id': [1, 2, 3], \n",
    "                             'lat': [19.433571, 19.431386, 19.431655], \n",
    "                             'lon': [-99.167809, -99.171695, -99.158668], \n",
    "                             'name': ['1 RIO SENA-RIO BALSAS', '2 RIO GUADALQUIVIR-RIO BALSAS', \n",
    "                                      '3 REFORMA-INSURGENTES']}\n",
    "\n",
    "df_test_0_1 = pd.DataFrame(estaciones_dist_test_dict)\n",
    "\n",
    "df_test_0_2 = fn_dist_estaciones(df_test_0_1)\n",
    "\n",
    "df_test_0_2"
   ]
  },
  {
   "cell_type": "markdown",
   "metadata": {},
   "source": [
    "# 2.0 Correr funciones"
   ]
  },
  {
   "cell_type": "code",
   "execution_count": 65,
   "metadata": {},
   "outputs": [
    {
     "name": "stderr",
     "output_type": "stream",
     "text": [
      "100%|██████████| 115921/115921 [03:08<00:00, 614.38it/s]\n"
     ]
    }
   ],
   "source": [
    "pares_estaciones_distancia = fn_dist_estaciones(estaciones)"
   ]
  },
  {
   "cell_type": "code",
   "execution_count": 76,
   "metadata": {},
   "outputs": [
    {
     "data": {
      "text/html": [
       "<div>\n",
       "<style scoped>\n",
       "    .dataframe tbody tr th:only-of-type {\n",
       "        vertical-align: middle;\n",
       "    }\n",
       "\n",
       "    .dataframe tbody tr th {\n",
       "        vertical-align: top;\n",
       "    }\n",
       "\n",
       "    .dataframe thead th {\n",
       "        text-align: right;\n",
       "    }\n",
       "</style>\n",
       "<table border=\"1\" class=\"dataframe\">\n",
       "  <thead>\n",
       "    <tr style=\"text-align: right;\">\n",
       "      <th></th>\n",
       "      <th>retiro_arribo</th>\n",
       "      <th>distancia</th>\n",
       "      <th>est_retiro</th>\n",
       "      <th>est_arribo</th>\n",
       "    </tr>\n",
       "  </thead>\n",
       "  <tbody>\n",
       "    <tr>\n",
       "      <th>0</th>\n",
       "      <td>[1, 1]</td>\n",
       "      <td>0.000000</td>\n",
       "      <td>1</td>\n",
       "      <td>1</td>\n",
       "    </tr>\n",
       "    <tr>\n",
       "      <th>1</th>\n",
       "      <td>[1, 2]</td>\n",
       "      <td>0.474436</td>\n",
       "      <td>1</td>\n",
       "      <td>2</td>\n",
       "    </tr>\n",
       "    <tr>\n",
       "      <th>2</th>\n",
       "      <td>[1, 3]</td>\n",
       "      <td>0.981942</td>\n",
       "      <td>1</td>\n",
       "      <td>3</td>\n",
       "    </tr>\n",
       "    <tr>\n",
       "      <th>3</th>\n",
       "      <td>[1, 4]</td>\n",
       "      <td>0.714133</td>\n",
       "      <td>1</td>\n",
       "      <td>4</td>\n",
       "    </tr>\n",
       "    <tr>\n",
       "      <th>4</th>\n",
       "      <td>[1, 5]</td>\n",
       "      <td>0.458207</td>\n",
       "      <td>1</td>\n",
       "      <td>5</td>\n",
       "    </tr>\n",
       "  </tbody>\n",
       "</table>\n",
       "</div>"
      ],
      "text/plain": [
       "  retiro_arribo  distancia  est_retiro  est_arribo\n",
       "0        [1, 1]   0.000000           1           1\n",
       "1        [1, 2]   0.474436           1           2\n",
       "2        [1, 3]   0.981942           1           3\n",
       "3        [1, 4]   0.714133           1           4\n",
       "4        [1, 5]   0.458207           1           5"
      ]
     },
     "execution_count": 76,
     "metadata": {},
     "output_type": "execute_result"
    }
   ],
   "source": [
    "pares_estaciones_distancia.head()"
   ]
  },
  {
   "cell_type": "markdown",
   "metadata": {},
   "source": [
    "# Export de dataframe"
   ]
  },
  {
   "cell_type": "code",
   "execution_count": 78,
   "metadata": {},
   "outputs": [],
   "source": [
    "pares_estaciones_distancia.to_csv('0_1_distancia_estaciones_esvelta.csv', index=False)"
   ]
  }
 ],
 "metadata": {
  "kernelspec": {
   "display_name": "Python 3",
   "language": "python",
   "name": "python3"
  },
  "language_info": {
   "codemirror_mode": {
    "name": "ipython",
    "version": 3
   },
   "file_extension": ".py",
   "mimetype": "text/x-python",
   "name": "python",
   "nbconvert_exporter": "python",
   "pygments_lexer": "ipython3",
   "version": "3.6.5"
  }
 },
 "nbformat": 4,
 "nbformat_minor": 2
}
