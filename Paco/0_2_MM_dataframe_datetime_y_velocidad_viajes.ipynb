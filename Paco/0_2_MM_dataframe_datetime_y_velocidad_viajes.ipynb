{
 "cells": [
  {
   "cell_type": "code",
   "execution_count": 1,
   "metadata": {},
   "outputs": [],
   "source": [
    "import pandas as pd"
   ]
  },
  {
   "cell_type": "markdown",
   "metadata": {},
   "source": [
    "# 0.0 Carga de datos"
   ]
  },
  {
   "cell_type": "markdown",
   "metadata": {},
   "source": [
    "# MODIFICAR A CSVs MAS RECIENTE"
   ]
  },
  {
   "cell_type": "code",
   "execution_count": 55,
   "metadata": {},
   "outputs": [
    {
     "name": "stderr",
     "output_type": "stream",
     "text": [
      "/Users/franciscopatino/anaconda3/lib/python3.6/site-packages/IPython/core/interactiveshell.py:2785: DtypeWarning: Columns (2) have mixed types. Specify dtype option on import or set low_memory=False.\n",
      "  interactivity=interactivity, compiler=compiler, result=result)\n"
     ]
    }
   ],
   "source": [
    "# Este es el dataframe con los viajes registrados por mes(es)\n",
    "\n",
    "df = pd.read_csv('ecobicis-2018-03.csv')"
   ]
  },
  {
   "cell_type": "code",
   "execution_count": 56,
   "metadata": {},
   "outputs": [],
   "source": [
    "# Este es el dataframe con los numeros de estación mas su geolocalización\n",
    "\n",
    "# estaciones = pd.read_csv('stations.csv')\n",
    "\n",
    "distancias = pd.read_csv('0_0_distancia_estaciones_esvelta.csv')"
   ]
  },
  {
   "cell_type": "markdown",
   "metadata": {},
   "source": [
    "## 0.2 Limpia de datos"
   ]
  },
  {
   "cell_type": "code",
   "execution_count": 57,
   "metadata": {},
   "outputs": [],
   "source": [
    "# No todos los ID de bici son String\n",
    "\n",
    "df = df.astype({'Bici': str})"
   ]
  },
  {
   "cell_type": "code",
   "execution_count": 58,
   "metadata": {},
   "outputs": [],
   "source": [
    "# Por el momento es mas facil dar de baja estaciones fuera del listado de estaciones\n",
    "\n",
    "df = df.drop(df[df.Ciclo_Estacion_Retiro == 1001].index)\n",
    "df = df.drop(df[df.Ciclo_Estacion_Retiro == 3000].index)\n",
    "df = df.drop(df[df.Ciclo_Estacion_Arribo == 1001].index)\n",
    "df = df.drop(df[df.Ciclo_Estacion_Arribo == 3000].index)"
   ]
  },
  {
   "cell_type": "markdown",
   "metadata": {},
   "source": [
    "# 1.0 Agregar Datetime a Dataframe"
   ]
  },
  {
   "cell_type": "code",
   "execution_count": 59,
   "metadata": {},
   "outputs": [],
   "source": [
    "import re\n",
    "import datetime\n",
    "from datetime import datetime\n",
    "\n",
    "# Esta función usa búsqueda de Regex del texto para las columnas de fecha y hora\n",
    "# Consigue los números de ambos, los une y usa la función de datetime para crear la\n",
    "# fecha y hora. Esto se va a aplicar para crear datetime de retiro y arribo para \n",
    "# poder crear funciones mas complejas.\n",
    "\n",
    "def fn_fecha(string_date, string_time):\n",
    "    day = re.search('\\d+', string_date)\n",
    "    day_num = int(day.group(0))\n",
    "\n",
    "    month = re.search('(?<=\\/)..', string_date)\n",
    "    month_num = int(month.group(0))\n",
    "\n",
    "    year = re.search('(?<=\\/..\\/)....', string_date)\n",
    "    year_num = int(year.group(0))\n",
    "\n",
    "    hour = re.search('\\d+', string_time)\n",
    "    hour_num = int(hour.group(0))\n",
    "    minute = re.findall('(?<=:)\\d+', string_time)\n",
    "    minute_num = int(minute[0])\n",
    "    second_num = int(minute[1])\n",
    "\n",
    "    try:\n",
    "        date_and_time = datetime(year_num, month_num, day_num, hour_num, minute_num, second_num)\n",
    "    except: \n",
    "        print('Error en formato de fecha!')\n",
    "        date_and_time = 'Error!'\n",
    "    \n",
    "    return date_and_time"
   ]
  },
  {
   "cell_type": "code",
   "execution_count": 60,
   "metadata": {},
   "outputs": [
    {
     "data": {
      "text/plain": [
       "datetime.datetime(2018, 3, 1, 23, 59, 57)"
      ]
     },
     "execution_count": 60,
     "metadata": {},
     "output_type": "execute_result"
    }
   ],
   "source": [
    "# Prueba de función:\n",
    "\n",
    "string1 = df.Fecha_Retiro[0]\n",
    "string2 = df.Hora_Retiro[737224]\n",
    "\n",
    "fn_fecha(string1, string2)"
   ]
  },
  {
   "cell_type": "markdown",
   "metadata": {},
   "source": [
    "# 1.1 Agregar distancia de viajes"
   ]
  },
  {
   "cell_type": "code",
   "execution_count": 61,
   "metadata": {},
   "outputs": [],
   "source": [
    "# Esta funcion regresa la distancia de viaje, despues de\n",
    "# filtrar el dataframe por estación de retiro y arribo indicado\n",
    "\n",
    "# Version compatible con dataframe esvelto de estaciones (sin importar orden de estaciones)\n",
    "\n",
    "def fn_dist_ruta(df_distancias, est_retiro, est_arribo):\n",
    "    try:\n",
    "        distancia = df_distancias.loc[(df_distancias['est_retiro'] == est_retiro) \n",
    "                                                   & (df_distancias['est_arribo'] == est_arribo), 'distancia']\n",
    "    except: \n",
    "        distancia = df_distancias.loc[(df_distancias['est_retiro'] == est_arribo) \n",
    "                                               & (df_distancias['est_arribo'] == est_retiro), 'distancia']\n",
    "    valor = distancia.values[0]\n",
    "\n",
    "    return valor\n",
    "\n",
    "# Esta función crea una nueva columna en el dataframe de viajes\n",
    "# que es la distancia entre las dos estaciones\n",
    "\n",
    "def fn_distancias_viajes(df_viajes, df_distancias):\n",
    "    df_viajes['distancia_viaje'] = df_viajes.apply(lambda x: fn_dist_ruta(df_distancias, \n",
    "                                                    x['Ciclo_Estacion_Retiro'], \n",
    "                                                    x['Ciclo_Estacion_Arribo']), axis =  1)"
   ]
  },
  {
   "cell_type": "code",
   "execution_count": 62,
   "metadata": {},
   "outputs": [
    {
     "data": {
      "text/plain": [
       "0.4744363478885178"
      ]
     },
     "execution_count": 62,
     "metadata": {},
     "output_type": "execute_result"
    }
   ],
   "source": [
    "# Prueba de función\n",
    "\n",
    "fn_dist_ruta(distancias, 1, 2)"
   ]
  },
  {
   "cell_type": "code",
   "execution_count": 63,
   "metadata": {},
   "outputs": [
    {
     "data": {
      "text/html": [
       "<div>\n",
       "<style scoped>\n",
       "    .dataframe tbody tr th:only-of-type {\n",
       "        vertical-align: middle;\n",
       "    }\n",
       "\n",
       "    .dataframe tbody tr th {\n",
       "        vertical-align: top;\n",
       "    }\n",
       "\n",
       "    .dataframe thead th {\n",
       "        text-align: right;\n",
       "    }\n",
       "</style>\n",
       "<table border=\"1\" class=\"dataframe\">\n",
       "  <thead>\n",
       "    <tr style=\"text-align: right;\">\n",
       "      <th></th>\n",
       "      <th>Ciclo_Estacion_Retiro</th>\n",
       "      <th>Ciclo_Estacion_Arribo</th>\n",
       "      <th>distancia_viaje</th>\n",
       "    </tr>\n",
       "  </thead>\n",
       "  <tbody>\n",
       "    <tr>\n",
       "      <th>0</th>\n",
       "      <td>1</td>\n",
       "      <td>5</td>\n",
       "      <td>5.1</td>\n",
       "    </tr>\n",
       "    <tr>\n",
       "      <th>1</th>\n",
       "      <td>2</td>\n",
       "      <td>4</td>\n",
       "      <td>7.2</td>\n",
       "    </tr>\n",
       "    <tr>\n",
       "      <th>2</th>\n",
       "      <td>3</td>\n",
       "      <td>3</td>\n",
       "      <td>0.0</td>\n",
       "    </tr>\n",
       "    <tr>\n",
       "      <th>3</th>\n",
       "      <td>4</td>\n",
       "      <td>2</td>\n",
       "      <td>7.2</td>\n",
       "    </tr>\n",
       "    <tr>\n",
       "      <th>4</th>\n",
       "      <td>5</td>\n",
       "      <td>1</td>\n",
       "      <td>5.1</td>\n",
       "    </tr>\n",
       "  </tbody>\n",
       "</table>\n",
       "</div>"
      ],
      "text/plain": [
       "   Ciclo_Estacion_Retiro  Ciclo_Estacion_Arribo  distancia_viaje\n",
       "0                      1                      5              5.1\n",
       "1                      2                      4              7.2\n",
       "2                      3                      3              0.0\n",
       "3                      4                      2              7.2\n",
       "4                      5                      1              5.1"
      ]
     },
     "execution_count": 63,
     "metadata": {},
     "output_type": "execute_result"
    }
   ],
   "source": [
    "# Prueba de función\n",
    "\n",
    "df_prueba_viajes = {'Ciclo_Estacion_Retiro': [1,2,3,4,5],\n",
    "                    'Ciclo_Estacion_Arribo': [5,4,3,2,1]}\n",
    "                \n",
    "df_prueba_distancias = {'retiro_arribo': [[1, 5], [2,4], [3,3], [4,2], [5,1]], \n",
    "                        'distancia': [5.1, 7.2, 0, 7.2, 5.1], \n",
    "                        'est_retiro': [1, 2, 3, 4, 5], \n",
    "                        'est_arribo': [5, 4, 3, 2, 1]}\n",
    "\n",
    "df_test_0_0 = pd.DataFrame(df_prueba_viajes)\n",
    "\n",
    "df_test_0_1 = pd.DataFrame(df_prueba_distancias)\n",
    "\n",
    "fn_distancias_viajes(df_test_0_0, df_test_0_1)\n",
    "\n",
    "df_test_0_0.head()"
   ]
  },
  {
   "cell_type": "markdown",
   "metadata": {},
   "source": [
    "# 1.2 Velocidad de viaje"
   ]
  },
  {
   "cell_type": "code",
   "execution_count": 64,
   "metadata": {},
   "outputs": [],
   "source": [
    "# Función para crear columnas de: 1) fecha arribo, 2) retiro, y 3) tiempo en uso\n",
    "\n",
    "# Este paquete genera barras de progreso. No es esencial pero ayuda con ver progreso\n",
    "# al procesar datasets muy grandes\n",
    "\n",
    "from tqdm import tqdm\n",
    "\n",
    "# Aplica la función que convierte el texto en fecha en una columna nueva\n",
    "\n",
    "def fn_datetime_y_uso_df(dataframe):\n",
    "    \n",
    "    dataframe['Fecha_Retiro_datetime'] = dataframe.apply(lambda x: fn_fecha(x['Fecha_Retiro'], x['Hora_Retiro']), axis =  1)\n",
    "    dataframe['Fecha_Arribo_datetime'] = dataframe.apply(lambda x: fn_fecha(x['Fecha_Arribo'], x['Hora_Arribo']), axis =  1)\n",
    "    dataframe['tiempo_en_uso'] = dataframe.apply(lambda x: (x['Fecha_Arribo_datetime'] - x['Fecha_Retiro_datetime']), axis =  1)\n",
    "\n",
    "# La función de velocidad intenta dividir distancia sobre tiempo con IF/ELSE y TRY/EXCEPT:\n",
    "# tiene excepciones por la existencia de viajes de/hacia la misma estación\n",
    "# y algunos peculiares donde el tiempo es 0.\n",
    "    \n",
    "def fn_velocidad(dataframe):\n",
    "    velocidades = []\n",
    "    for i in tqdm(range(len(dataframe))):\n",
    "        index = dataframe.index[i]\n",
    "        row = dataframe.loc[index]\n",
    "        if row.distancia_viaje >= 0.0 and row.tiempo_en_uso.total_seconds() > 0.0:\n",
    "            try: \n",
    "                velocidad = row.distancia_viaje / (row.tiempo_en_uso.total_seconds()/3600)\n",
    "            except:\n",
    "                velocidad = 0\n",
    "        else:\n",
    "            velocidad = 0\n",
    "        velocidades.append(velocidad)\n",
    "    dataframe['velocidad'] = velocidades"
   ]
  },
  {
   "cell_type": "code",
   "execution_count": 65,
   "metadata": {},
   "outputs": [
    {
     "data": {
      "text/html": [
       "<div>\n",
       "<style scoped>\n",
       "    .dataframe tbody tr th:only-of-type {\n",
       "        vertical-align: middle;\n",
       "    }\n",
       "\n",
       "    .dataframe tbody tr th {\n",
       "        vertical-align: top;\n",
       "    }\n",
       "\n",
       "    .dataframe thead th {\n",
       "        text-align: right;\n",
       "    }\n",
       "</style>\n",
       "<table border=\"1\" class=\"dataframe\">\n",
       "  <thead>\n",
       "    <tr style=\"text-align: right;\">\n",
       "      <th></th>\n",
       "      <th>Fecha_Retiro</th>\n",
       "      <th>Hora_Retiro</th>\n",
       "      <th>Fecha_Arribo</th>\n",
       "      <th>Hora_Arribo</th>\n",
       "      <th>Fecha_Retiro_datetime</th>\n",
       "      <th>Fecha_Arribo_datetime</th>\n",
       "      <th>tiempo_en_uso</th>\n",
       "    </tr>\n",
       "  </thead>\n",
       "  <tbody>\n",
       "    <tr>\n",
       "      <th>0</th>\n",
       "      <td>01/03/2018</td>\n",
       "      <td>01:59:57</td>\n",
       "      <td>01/03/2018</td>\n",
       "      <td>02:01:00</td>\n",
       "      <td>2018-03-01 01:59:57</td>\n",
       "      <td>2018-03-01 02:01:00</td>\n",
       "      <td>00:01:03</td>\n",
       "    </tr>\n",
       "    <tr>\n",
       "      <th>1</th>\n",
       "      <td>02/03/2018</td>\n",
       "      <td>02:59:57</td>\n",
       "      <td>02/03/2018</td>\n",
       "      <td>03:02:00</td>\n",
       "      <td>2018-03-02 02:59:57</td>\n",
       "      <td>2018-03-02 03:02:00</td>\n",
       "      <td>00:02:03</td>\n",
       "    </tr>\n",
       "    <tr>\n",
       "      <th>2</th>\n",
       "      <td>03/03/2018</td>\n",
       "      <td>03:59:57</td>\n",
       "      <td>03/03/2018</td>\n",
       "      <td>04:03:00</td>\n",
       "      <td>2018-03-03 03:59:57</td>\n",
       "      <td>2018-03-03 04:03:00</td>\n",
       "      <td>00:03:03</td>\n",
       "    </tr>\n",
       "  </tbody>\n",
       "</table>\n",
       "</div>"
      ],
      "text/plain": [
       "  Fecha_Retiro Hora_Retiro Fecha_Arribo Hora_Arribo Fecha_Retiro_datetime  \\\n",
       "0   01/03/2018    01:59:57   01/03/2018    02:01:00   2018-03-01 01:59:57   \n",
       "1   02/03/2018    02:59:57   02/03/2018    03:02:00   2018-03-02 02:59:57   \n",
       "2   03/03/2018    03:59:57   03/03/2018    04:03:00   2018-03-03 03:59:57   \n",
       "\n",
       "  Fecha_Arribo_datetime tiempo_en_uso  \n",
       "0   2018-03-01 02:01:00      00:01:03  \n",
       "1   2018-03-02 03:02:00      00:02:03  \n",
       "2   2018-03-03 04:03:00      00:03:03  "
      ]
     },
     "execution_count": 65,
     "metadata": {},
     "output_type": "execute_result"
    }
   ],
   "source": [
    "# Prueba de función\n",
    "\n",
    "df_prueba_uso = {'Fecha_Retiro': ['01/03/2018', '02/03/2018', '03/03/2018'],\n",
    "                    'Hora_Retiro': ['01:59:57','02:59:57','03:59:57'],\n",
    "                    'Fecha_Arribo': ['01/03/2018', '02/03/2018', '03/03/2018'],\n",
    "                    'Hora_Arribo': ['02:01:00','03:02:00','04:03:00']}\n",
    "                \n",
    "df_test_0_2 = pd.DataFrame(df_prueba_uso)\n",
    "\n",
    "fn_datetime_y_uso_df(df_test_0_2)\n",
    "\n",
    "df_test_0_2.head()"
   ]
  },
  {
   "cell_type": "markdown",
   "metadata": {},
   "source": [
    "# 2.0 Correr funciónes y exportar"
   ]
  },
  {
   "cell_type": "code",
   "execution_count": 46,
   "metadata": {},
   "outputs": [],
   "source": [
    "fn_distancias_viajes(df, distancias)"
   ]
  },
  {
   "cell_type": "code",
   "execution_count": null,
   "metadata": {},
   "outputs": [],
   "source": [
    "df.head()"
   ]
  },
  {
   "cell_type": "code",
   "execution_count": 48,
   "metadata": {},
   "outputs": [],
   "source": [
    "fn_datetime_y_uso_df(df)"
   ]
  },
  {
   "cell_type": "code",
   "execution_count": 49,
   "metadata": {},
   "outputs": [
    {
     "data": {
      "text/html": [
       "<div>\n",
       "<style scoped>\n",
       "    .dataframe tbody tr th:only-of-type {\n",
       "        vertical-align: middle;\n",
       "    }\n",
       "\n",
       "    .dataframe tbody tr th {\n",
       "        vertical-align: top;\n",
       "    }\n",
       "\n",
       "    .dataframe thead th {\n",
       "        text-align: right;\n",
       "    }\n",
       "</style>\n",
       "<table border=\"1\" class=\"dataframe\">\n",
       "  <thead>\n",
       "    <tr style=\"text-align: right;\">\n",
       "      <th></th>\n",
       "      <th>Genero_Usuario</th>\n",
       "      <th>Edad_Usuario</th>\n",
       "      <th>Bici</th>\n",
       "      <th>Ciclo_Estacion_Retiro</th>\n",
       "      <th>Fecha_Retiro</th>\n",
       "      <th>Hora_Retiro</th>\n",
       "      <th>Ciclo_Estacion_Arribo</th>\n",
       "      <th>Fecha_Arribo</th>\n",
       "      <th>Hora_Arribo</th>\n",
       "      <th>distancia_viaje</th>\n",
       "      <th>Fecha_Retiro_datetime</th>\n",
       "      <th>Fecha_Arribo_datetime</th>\n",
       "      <th>tiempo_en_uso</th>\n",
       "    </tr>\n",
       "  </thead>\n",
       "  <tbody>\n",
       "    <tr>\n",
       "      <th>0</th>\n",
       "      <td>M</td>\n",
       "      <td>49</td>\n",
       "      <td>3307</td>\n",
       "      <td>365</td>\n",
       "      <td>01/03/2018</td>\n",
       "      <td>0:00:10</td>\n",
       "      <td>169</td>\n",
       "      <td>01/03/2018</td>\n",
       "      <td>0:13:05</td>\n",
       "      <td>2.729608</td>\n",
       "      <td>2018-03-01 00:00:10</td>\n",
       "      <td>2018-03-01 00:13:05</td>\n",
       "      <td>00:12:55</td>\n",
       "    </tr>\n",
       "    <tr>\n",
       "      <th>1</th>\n",
       "      <td>F</td>\n",
       "      <td>29</td>\n",
       "      <td>9218</td>\n",
       "      <td>137</td>\n",
       "      <td>01/03/2018</td>\n",
       "      <td>0:00:13</td>\n",
       "      <td>308</td>\n",
       "      <td>01/03/2018</td>\n",
       "      <td>0:18:34</td>\n",
       "      <td>3.561729</td>\n",
       "      <td>2018-03-01 00:00:13</td>\n",
       "      <td>2018-03-01 00:18:34</td>\n",
       "      <td>00:18:21</td>\n",
       "    </tr>\n",
       "    <tr>\n",
       "      <th>2</th>\n",
       "      <td>F</td>\n",
       "      <td>30</td>\n",
       "      <td>3945</td>\n",
       "      <td>54</td>\n",
       "      <td>01/03/2018</td>\n",
       "      <td>0:00:17</td>\n",
       "      <td>191</td>\n",
       "      <td>01/03/2018</td>\n",
       "      <td>0:12:13</td>\n",
       "      <td>2.019986</td>\n",
       "      <td>2018-03-01 00:00:17</td>\n",
       "      <td>2018-03-01 00:12:13</td>\n",
       "      <td>00:11:56</td>\n",
       "    </tr>\n",
       "    <tr>\n",
       "      <th>3</th>\n",
       "      <td>M</td>\n",
       "      <td>25</td>\n",
       "      <td>9971</td>\n",
       "      <td>130</td>\n",
       "      <td>01/03/2018</td>\n",
       "      <td>0:00:47</td>\n",
       "      <td>271</td>\n",
       "      <td>01/03/2018</td>\n",
       "      <td>0:12:40</td>\n",
       "      <td>2.551229</td>\n",
       "      <td>2018-03-01 00:00:47</td>\n",
       "      <td>2018-03-01 00:12:40</td>\n",
       "      <td>00:11:53</td>\n",
       "    </tr>\n",
       "    <tr>\n",
       "      <th>4</th>\n",
       "      <td>M</td>\n",
       "      <td>20</td>\n",
       "      <td>10551</td>\n",
       "      <td>415</td>\n",
       "      <td>01/03/2018</td>\n",
       "      <td>0:00:56</td>\n",
       "      <td>433</td>\n",
       "      <td>01/03/2018</td>\n",
       "      <td>0:05:18</td>\n",
       "      <td>1.037867</td>\n",
       "      <td>2018-03-01 00:00:56</td>\n",
       "      <td>2018-03-01 00:05:18</td>\n",
       "      <td>00:04:22</td>\n",
       "    </tr>\n",
       "  </tbody>\n",
       "</table>\n",
       "</div>"
      ],
      "text/plain": [
       "  Genero_Usuario  Edad_Usuario   Bici  Ciclo_Estacion_Retiro Fecha_Retiro  \\\n",
       "0              M            49   3307                    365   01/03/2018   \n",
       "1              F            29   9218                    137   01/03/2018   \n",
       "2              F            30   3945                     54   01/03/2018   \n",
       "3              M            25   9971                    130   01/03/2018   \n",
       "4              M            20  10551                    415   01/03/2018   \n",
       "\n",
       "  Hora_Retiro  Ciclo_Estacion_Arribo Fecha_Arribo Hora_Arribo  \\\n",
       "0     0:00:10                    169   01/03/2018     0:13:05   \n",
       "1     0:00:13                    308   01/03/2018     0:18:34   \n",
       "2     0:00:17                    191   01/03/2018     0:12:13   \n",
       "3     0:00:47                    271   01/03/2018     0:12:40   \n",
       "4     0:00:56                    433   01/03/2018     0:05:18   \n",
       "\n",
       "   distancia_viaje Fecha_Retiro_datetime Fecha_Arribo_datetime tiempo_en_uso  \n",
       "0         2.729608   2018-03-01 00:00:10   2018-03-01 00:13:05      00:12:55  \n",
       "1         3.561729   2018-03-01 00:00:13   2018-03-01 00:18:34      00:18:21  \n",
       "2         2.019986   2018-03-01 00:00:17   2018-03-01 00:12:13      00:11:56  \n",
       "3         2.551229   2018-03-01 00:00:47   2018-03-01 00:12:40      00:11:53  \n",
       "4         1.037867   2018-03-01 00:00:56   2018-03-01 00:05:18      00:04:22  "
      ]
     },
     "execution_count": 49,
     "metadata": {},
     "output_type": "execute_result"
    }
   ],
   "source": [
    "df.head()"
   ]
  },
  {
   "cell_type": "code",
   "execution_count": 50,
   "metadata": {},
   "outputs": [
    {
     "name": "stderr",
     "output_type": "stream",
     "text": [
      "100%|██████████| 737214/737214 [04:23<00:00, 2798.93it/s]\n"
     ]
    }
   ],
   "source": [
    "fn_velocidad(df)"
   ]
  },
  {
   "cell_type": "code",
   "execution_count": 51,
   "metadata": {},
   "outputs": [
    {
     "data": {
      "text/html": [
       "<div>\n",
       "<style scoped>\n",
       "    .dataframe tbody tr th:only-of-type {\n",
       "        vertical-align: middle;\n",
       "    }\n",
       "\n",
       "    .dataframe tbody tr th {\n",
       "        vertical-align: top;\n",
       "    }\n",
       "\n",
       "    .dataframe thead th {\n",
       "        text-align: right;\n",
       "    }\n",
       "</style>\n",
       "<table border=\"1\" class=\"dataframe\">\n",
       "  <thead>\n",
       "    <tr style=\"text-align: right;\">\n",
       "      <th></th>\n",
       "      <th>Genero_Usuario</th>\n",
       "      <th>Edad_Usuario</th>\n",
       "      <th>Bici</th>\n",
       "      <th>Ciclo_Estacion_Retiro</th>\n",
       "      <th>Fecha_Retiro</th>\n",
       "      <th>Hora_Retiro</th>\n",
       "      <th>Ciclo_Estacion_Arribo</th>\n",
       "      <th>Fecha_Arribo</th>\n",
       "      <th>Hora_Arribo</th>\n",
       "      <th>distancia_viaje</th>\n",
       "      <th>Fecha_Retiro_datetime</th>\n",
       "      <th>Fecha_Arribo_datetime</th>\n",
       "      <th>tiempo_en_uso</th>\n",
       "      <th>velocidad</th>\n",
       "    </tr>\n",
       "  </thead>\n",
       "  <tbody>\n",
       "    <tr>\n",
       "      <th>0</th>\n",
       "      <td>M</td>\n",
       "      <td>49</td>\n",
       "      <td>3307</td>\n",
       "      <td>365</td>\n",
       "      <td>01/03/2018</td>\n",
       "      <td>0:00:10</td>\n",
       "      <td>169</td>\n",
       "      <td>01/03/2018</td>\n",
       "      <td>0:13:05</td>\n",
       "      <td>2.729608</td>\n",
       "      <td>2018-03-01 00:00:10</td>\n",
       "      <td>2018-03-01 00:13:05</td>\n",
       "      <td>00:12:55</td>\n",
       "      <td>12.679471</td>\n",
       "    </tr>\n",
       "    <tr>\n",
       "      <th>1</th>\n",
       "      <td>F</td>\n",
       "      <td>29</td>\n",
       "      <td>9218</td>\n",
       "      <td>137</td>\n",
       "      <td>01/03/2018</td>\n",
       "      <td>0:00:13</td>\n",
       "      <td>308</td>\n",
       "      <td>01/03/2018</td>\n",
       "      <td>0:18:34</td>\n",
       "      <td>3.561729</td>\n",
       "      <td>2018-03-01 00:00:13</td>\n",
       "      <td>2018-03-01 00:18:34</td>\n",
       "      <td>00:18:21</td>\n",
       "      <td>11.645980</td>\n",
       "    </tr>\n",
       "    <tr>\n",
       "      <th>2</th>\n",
       "      <td>F</td>\n",
       "      <td>30</td>\n",
       "      <td>3945</td>\n",
       "      <td>54</td>\n",
       "      <td>01/03/2018</td>\n",
       "      <td>0:00:17</td>\n",
       "      <td>191</td>\n",
       "      <td>01/03/2018</td>\n",
       "      <td>0:12:13</td>\n",
       "      <td>2.019986</td>\n",
       "      <td>2018-03-01 00:00:17</td>\n",
       "      <td>2018-03-01 00:12:13</td>\n",
       "      <td>00:11:56</td>\n",
       "      <td>10.156356</td>\n",
       "    </tr>\n",
       "    <tr>\n",
       "      <th>3</th>\n",
       "      <td>M</td>\n",
       "      <td>25</td>\n",
       "      <td>9971</td>\n",
       "      <td>130</td>\n",
       "      <td>01/03/2018</td>\n",
       "      <td>0:00:47</td>\n",
       "      <td>271</td>\n",
       "      <td>01/03/2018</td>\n",
       "      <td>0:12:40</td>\n",
       "      <td>2.551229</td>\n",
       "      <td>2018-03-01 00:00:47</td>\n",
       "      <td>2018-03-01 00:12:40</td>\n",
       "      <td>00:11:53</td>\n",
       "      <td>12.881380</td>\n",
       "    </tr>\n",
       "    <tr>\n",
       "      <th>4</th>\n",
       "      <td>M</td>\n",
       "      <td>20</td>\n",
       "      <td>10551</td>\n",
       "      <td>415</td>\n",
       "      <td>01/03/2018</td>\n",
       "      <td>0:00:56</td>\n",
       "      <td>433</td>\n",
       "      <td>01/03/2018</td>\n",
       "      <td>0:05:18</td>\n",
       "      <td>1.037867</td>\n",
       "      <td>2018-03-01 00:00:56</td>\n",
       "      <td>2018-03-01 00:05:18</td>\n",
       "      <td>00:04:22</td>\n",
       "      <td>14.260767</td>\n",
       "    </tr>\n",
       "  </tbody>\n",
       "</table>\n",
       "</div>"
      ],
      "text/plain": [
       "  Genero_Usuario  Edad_Usuario   Bici  Ciclo_Estacion_Retiro Fecha_Retiro  \\\n",
       "0              M            49   3307                    365   01/03/2018   \n",
       "1              F            29   9218                    137   01/03/2018   \n",
       "2              F            30   3945                     54   01/03/2018   \n",
       "3              M            25   9971                    130   01/03/2018   \n",
       "4              M            20  10551                    415   01/03/2018   \n",
       "\n",
       "  Hora_Retiro  Ciclo_Estacion_Arribo Fecha_Arribo Hora_Arribo  \\\n",
       "0     0:00:10                    169   01/03/2018     0:13:05   \n",
       "1     0:00:13                    308   01/03/2018     0:18:34   \n",
       "2     0:00:17                    191   01/03/2018     0:12:13   \n",
       "3     0:00:47                    271   01/03/2018     0:12:40   \n",
       "4     0:00:56                    433   01/03/2018     0:05:18   \n",
       "\n",
       "   distancia_viaje Fecha_Retiro_datetime Fecha_Arribo_datetime tiempo_en_uso  \\\n",
       "0         2.729608   2018-03-01 00:00:10   2018-03-01 00:13:05      00:12:55   \n",
       "1         3.561729   2018-03-01 00:00:13   2018-03-01 00:18:34      00:18:21   \n",
       "2         2.019986   2018-03-01 00:00:17   2018-03-01 00:12:13      00:11:56   \n",
       "3         2.551229   2018-03-01 00:00:47   2018-03-01 00:12:40      00:11:53   \n",
       "4         1.037867   2018-03-01 00:00:56   2018-03-01 00:05:18      00:04:22   \n",
       "\n",
       "   velocidad  \n",
       "0  12.679471  \n",
       "1  11.645980  \n",
       "2  10.156356  \n",
       "3  12.881380  \n",
       "4  14.260767  "
      ]
     },
     "execution_count": 51,
     "metadata": {},
     "output_type": "execute_result"
    }
   ],
   "source": [
    "df.head()"
   ]
  },
  {
   "cell_type": "code",
   "execution_count": 53,
   "metadata": {},
   "outputs": [],
   "source": [
    "df.to_csv('0_2_df_viajes_marzo.csv', index=False)"
   ]
  },
  {
   "cell_type": "code",
   "execution_count": 66,
   "metadata": {},
   "outputs": [
    {
     "data": {
      "text/html": [
       "<div>\n",
       "<style scoped>\n",
       "    .dataframe tbody tr th:only-of-type {\n",
       "        vertical-align: middle;\n",
       "    }\n",
       "\n",
       "    .dataframe tbody tr th {\n",
       "        vertical-align: top;\n",
       "    }\n",
       "\n",
       "    .dataframe thead th {\n",
       "        text-align: right;\n",
       "    }\n",
       "</style>\n",
       "<table border=\"1\" class=\"dataframe\">\n",
       "  <thead>\n",
       "    <tr style=\"text-align: right;\">\n",
       "      <th></th>\n",
       "      <th>retiro_arribo</th>\n",
       "      <th>distancia</th>\n",
       "      <th>est_retiro</th>\n",
       "      <th>est_arribo</th>\n",
       "    </tr>\n",
       "  </thead>\n",
       "  <tbody>\n",
       "    <tr>\n",
       "      <th>0</th>\n",
       "      <td>(1, 1)</td>\n",
       "      <td>0.000000</td>\n",
       "      <td>1</td>\n",
       "      <td>1</td>\n",
       "    </tr>\n",
       "    <tr>\n",
       "      <th>1</th>\n",
       "      <td>(1, 2)</td>\n",
       "      <td>0.474436</td>\n",
       "      <td>1</td>\n",
       "      <td>2</td>\n",
       "    </tr>\n",
       "    <tr>\n",
       "      <th>2</th>\n",
       "      <td>(1, 3)</td>\n",
       "      <td>0.981942</td>\n",
       "      <td>1</td>\n",
       "      <td>3</td>\n",
       "    </tr>\n",
       "    <tr>\n",
       "      <th>3</th>\n",
       "      <td>(1, 4)</td>\n",
       "      <td>0.714133</td>\n",
       "      <td>1</td>\n",
       "      <td>4</td>\n",
       "    </tr>\n",
       "    <tr>\n",
       "      <th>4</th>\n",
       "      <td>(1, 5)</td>\n",
       "      <td>0.458207</td>\n",
       "      <td>1</td>\n",
       "      <td>5</td>\n",
       "    </tr>\n",
       "  </tbody>\n",
       "</table>\n",
       "</div>"
      ],
      "text/plain": [
       "  retiro_arribo  distancia  est_retiro  est_arribo\n",
       "0        (1, 1)   0.000000           1           1\n",
       "1        (1, 2)   0.474436           1           2\n",
       "2        (1, 3)   0.981942           1           3\n",
       "3        (1, 4)   0.714133           1           4\n",
       "4        (1, 5)   0.458207           1           5"
      ]
     },
     "execution_count": 66,
     "metadata": {},
     "output_type": "execute_result"
    }
   ],
   "source": [
    "distancias.head()"
   ]
  },
  {
   "cell_type": "code",
   "execution_count": null,
   "metadata": {},
   "outputs": [],
   "source": []
  }
 ],
 "metadata": {
  "kernelspec": {
   "display_name": "Python 3",
   "language": "python",
   "name": "python3"
  },
  "language_info": {
   "codemirror_mode": {
    "name": "ipython",
    "version": 3
   },
   "file_extension": ".py",
   "mimetype": "text/x-python",
   "name": "python",
   "nbconvert_exporter": "python",
   "pygments_lexer": "ipython3",
   "version": "3.6.5"
  }
 },
 "nbformat": 4,
 "nbformat_minor": 2
}
