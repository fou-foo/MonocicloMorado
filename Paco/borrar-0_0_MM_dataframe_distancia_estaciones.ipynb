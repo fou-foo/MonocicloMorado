{
 "cells": [
  {
   "cell_type": "code",
   "execution_count": 1,
   "metadata": {},
   "outputs": [],
   "source": [
    "import pandas as pd"
   ]
  },
  {
   "cell_type": "markdown",
   "metadata": {},
   "source": [
    "# 0. Cargar datos"
   ]
  },
  {
   "cell_type": "code",
   "execution_count": 2,
   "metadata": {},
   "outputs": [],
   "source": [
    "# Este es el dataframe con los numeros de estación mas su geolocalización\n",
    "\n",
    "estaciones = pd.read_csv('stations.csv')"
   ]
  },
  {
   "cell_type": "code",
   "execution_count": 12,
   "metadata": {},
   "outputs": [
    {
     "data": {
      "text/html": [
       "<div>\n",
       "<style scoped>\n",
       "    .dataframe tbody tr th:only-of-type {\n",
       "        vertical-align: middle;\n",
       "    }\n",
       "\n",
       "    .dataframe tbody tr th {\n",
       "        vertical-align: top;\n",
       "    }\n",
       "\n",
       "    .dataframe thead th {\n",
       "        text-align: right;\n",
       "    }\n",
       "</style>\n",
       "<table border=\"1\" class=\"dataframe\">\n",
       "  <thead>\n",
       "    <tr style=\"text-align: right;\">\n",
       "      <th></th>\n",
       "      <th>id</th>\n",
       "      <th>lat</th>\n",
       "      <th>lon</th>\n",
       "      <th>name</th>\n",
       "    </tr>\n",
       "  </thead>\n",
       "  <tbody>\n",
       "    <tr>\n",
       "      <th>0</th>\n",
       "      <td>1</td>\n",
       "      <td>19.433571</td>\n",
       "      <td>-99.167809</td>\n",
       "      <td>1 RIO SENA-RIO BALSAS</td>\n",
       "    </tr>\n",
       "    <tr>\n",
       "      <th>1</th>\n",
       "      <td>2</td>\n",
       "      <td>19.431386</td>\n",
       "      <td>-99.171695</td>\n",
       "      <td>2 RIO GUADALQUIVIR-RIO BALSAS</td>\n",
       "    </tr>\n",
       "    <tr>\n",
       "      <th>2</th>\n",
       "      <td>3</td>\n",
       "      <td>19.431655</td>\n",
       "      <td>-99.158668</td>\n",
       "      <td>3 REFORMA-INSURGENTES</td>\n",
       "    </tr>\n",
       "    <tr>\n",
       "      <th>3</th>\n",
       "      <td>4</td>\n",
       "      <td>19.428309</td>\n",
       "      <td>-99.171713</td>\n",
       "      <td>4 RIO NILO-RIO PANUCO</td>\n",
       "    </tr>\n",
       "    <tr>\n",
       "      <th>4</th>\n",
       "      <td>5</td>\n",
       "      <td>19.429720</td>\n",
       "      <td>-99.169363</td>\n",
       "      <td>5 RIO PANUCO-RIO TIBER</td>\n",
       "    </tr>\n",
       "  </tbody>\n",
       "</table>\n",
       "</div>"
      ],
      "text/plain": [
       "   id        lat        lon                           name\n",
       "0   1  19.433571 -99.167809          1 RIO SENA-RIO BALSAS\n",
       "1   2  19.431386 -99.171695  2 RIO GUADALQUIVIR-RIO BALSAS\n",
       "2   3  19.431655 -99.158668          3 REFORMA-INSURGENTES\n",
       "3   4  19.428309 -99.171713          4 RIO NILO-RIO PANUCO\n",
       "4   5  19.429720 -99.169363         5 RIO PANUCO-RIO TIBER"
      ]
     },
     "execution_count": 12,
     "metadata": {},
     "output_type": "execute_result"
    }
   ],
   "source": [
    "estaciones.head()"
   ]
  },
  {
   "cell_type": "markdown",
   "metadata": {},
   "source": [
    "## 0.1 Estaciones fuera de mapa"
   ]
  },
  {
   "cell_type": "code",
   "execution_count": 3,
   "metadata": {},
   "outputs": [],
   "source": [
    "# Hay varias estaciones fuera de los mapas.\n",
    "# Esto inserta la estacion 1002. Coordenadas hipoteticas basadas en \n",
    "# punto central de todos los destinos de esa estacion\n",
    "\n",
    "estacion_1002 = {'id': 1002, 'lat': 19.42527836428572, 'lon': -99.1695673232143, \n",
    "                 'name': '1002 La estación fantásma del Profesor Layton'}\n",
    " \n",
    "estaciones = estaciones.append(estacion_1002, ignore_index=True)"
   ]
  },
  {
   "cell_type": "markdown",
   "metadata": {},
   "source": [
    "# 1.0 Crear Dataframe con distancias entre estaciones"
   ]
  },
  {
   "cell_type": "code",
   "execution_count": 7,
   "metadata": {},
   "outputs": [],
   "source": [
    "# https://kanoki.org/2019/02/14/how-to-find-distance-between-two-points-based-on-latitude-and-longitude-using-python-and-sql/\n",
    "\n",
    "# Esta es una función matematica para encontrar la distancia entre dos puntos de una esfera.\n",
    "# Usar esto, en vez de una función mas complicada para rutas entre calles, fue para simplificar\n",
    "# Calculos y visualizaciones.\n",
    "\n",
    "from math import radians, cos, sin, asin, sqrt\n",
    "\n",
    "def haversine(lon1, lat1, lon2, lat2):\n",
    "    # convert decimal degrees to radians \n",
    "    lon1, lat1, lon2, lat2 = map(radians, [lon1, lat1, lon2, lat2])\n",
    "\n",
    "    # haversine formula \n",
    "    dlon = lon2 - lon1 \n",
    "    dlat = lat2 - lat1 \n",
    "    a = sin(dlat/2)**2 + cos(lat1) * cos(lat2) * sin(dlon/2)**2\n",
    "    c = 2 * asin(sqrt(a)) \n",
    "    r = 6371 # Radius of earth in kilometers. Use 3956 for miles\n",
    "    return c * r"
   ]
  },
  {
   "cell_type": "code",
   "execution_count": 8,
   "metadata": {},
   "outputs": [],
   "source": [
    "# Esta función hace lo siguiente: Crea un dataframe desde la lista de estaciones.\n",
    "# De cada par de estaciones retiro/arribo\n",
    "# calcula la distancia entre ellas (con 0 para retiro y arribo a la misma)\n",
    "# Y crea columnas con la distancia entre cada par, y las combinaciones de pares.\n",
    "\n",
    "# El paquete tqdm genera barras de progreso. No es esencial pero ayuda con el aspecto psicológico\n",
    "# de ver progreso al procesar datasets muy grandes.\n",
    "\n",
    "from tqdm import tqdm\n",
    "\n",
    "def fn_dist_estaciones(dataframe):\n",
    "    id_estaciones = estaciones.id.unique()\n",
    "    comb_estaciones = []\n",
    "    par_estaciones = []\n",
    "\n",
    "    for origen in tqdm(range(len(id_estaciones))):\n",
    "        origen_id = id_estaciones[origen]\n",
    "        for destino in range(len(id_estaciones)):\n",
    "            destino_id = id_estaciones[destino]\n",
    "            par_estaciones = [origen_id, destino_id]\n",
    "            comb_estaciones.append(par_estaciones)\n",
    "\n",
    "    distancia_list = []\n",
    "    \n",
    "    for combo in tqdm(range(len(comb_estaciones))):\n",
    "        lon1 = dataframe.loc[dataframe['id'] == comb_estaciones[combo][0], 'lon']\n",
    "        lat1 = dataframe.loc[dataframe['id'] == comb_estaciones[combo][0], 'lat']\n",
    "        lon2 = dataframe.loc[dataframe['id'] == comb_estaciones[combo][1], 'lon']\n",
    "        lat2 = dataframe.loc[dataframe['id'] == comb_estaciones[combo][1], 'lat']\n",
    "        distancia = haversine(lon1, lat1, lon2, lat2)\n",
    "        distancia_list.append(distancia)\n",
    "            \n",
    "    distancia_dict = {'retiro_arribo': comb_estaciones, 'distancia': distancia_list}  \n",
    "\n",
    "    df_distancias = pd.DataFrame(distancia_dict)\n",
    "    df_distancias['est_retiro'] = df_distancias.apply(lambda x: (x['retiro_arribo'][0]), axis =  1)\n",
    "    df_distancias['est_arribo'] = df_distancias.apply(lambda x: (x['retiro_arribo'][1]), axis =  1)\n",
    "#    df_distancias.drop('retiro_arribo', axis=1)\n",
    "    \n",
    "    return df_distancias"
   ]
  },
  {
   "cell_type": "code",
   "execution_count": 9,
   "metadata": {},
   "outputs": [
    {
     "name": "stderr",
     "output_type": "stream",
     "text": [
      "100%|██████████| 481/481 [00:00<00:00, 2545.18it/s]\n",
      "100%|██████████| 231361/231361 [06:36<00:00, 583.12it/s]\n"
     ]
    }
   ],
   "source": [
    "estaciones_distancia = fn_dist_estaciones(estaciones)"
   ]
  },
  {
   "cell_type": "code",
   "execution_count": 11,
   "metadata": {},
   "outputs": [
    {
     "data": {
      "text/html": [
       "<div>\n",
       "<style scoped>\n",
       "    .dataframe tbody tr th:only-of-type {\n",
       "        vertical-align: middle;\n",
       "    }\n",
       "\n",
       "    .dataframe tbody tr th {\n",
       "        vertical-align: top;\n",
       "    }\n",
       "\n",
       "    .dataframe thead th {\n",
       "        text-align: right;\n",
       "    }\n",
       "</style>\n",
       "<table border=\"1\" class=\"dataframe\">\n",
       "  <thead>\n",
       "    <tr style=\"text-align: right;\">\n",
       "      <th></th>\n",
       "      <th>retiro_arribo</th>\n",
       "      <th>distancia</th>\n",
       "      <th>est_retiro</th>\n",
       "      <th>est_arribo</th>\n",
       "    </tr>\n",
       "  </thead>\n",
       "  <tbody>\n",
       "    <tr>\n",
       "      <th>0</th>\n",
       "      <td>[1, 1]</td>\n",
       "      <td>0.000000</td>\n",
       "      <td>1</td>\n",
       "      <td>1</td>\n",
       "    </tr>\n",
       "    <tr>\n",
       "      <th>1</th>\n",
       "      <td>[1, 2]</td>\n",
       "      <td>0.474436</td>\n",
       "      <td>1</td>\n",
       "      <td>2</td>\n",
       "    </tr>\n",
       "    <tr>\n",
       "      <th>2</th>\n",
       "      <td>[1, 3]</td>\n",
       "      <td>0.981942</td>\n",
       "      <td>1</td>\n",
       "      <td>3</td>\n",
       "    </tr>\n",
       "    <tr>\n",
       "      <th>3</th>\n",
       "      <td>[1, 4]</td>\n",
       "      <td>0.714133</td>\n",
       "      <td>1</td>\n",
       "      <td>4</td>\n",
       "    </tr>\n",
       "    <tr>\n",
       "      <th>4</th>\n",
       "      <td>[1, 5]</td>\n",
       "      <td>0.458207</td>\n",
       "      <td>1</td>\n",
       "      <td>5</td>\n",
       "    </tr>\n",
       "  </tbody>\n",
       "</table>\n",
       "</div>"
      ],
      "text/plain": [
       "  retiro_arribo  distancia  est_retiro  est_arribo\n",
       "0        [1, 1]   0.000000           1           1\n",
       "1        [1, 2]   0.474436           1           2\n",
       "2        [1, 3]   0.981942           1           3\n",
       "3        [1, 4]   0.714133           1           4\n",
       "4        [1, 5]   0.458207           1           5"
      ]
     },
     "execution_count": 11,
     "metadata": {},
     "output_type": "execute_result"
    }
   ],
   "source": [
    "estaciones_distancia.head()"
   ]
  },
  {
   "cell_type": "markdown",
   "metadata": {},
   "source": [
    "# 1.1 Exportar"
   ]
  },
  {
   "cell_type": "code",
   "execution_count": null,
   "metadata": {},
   "outputs": [],
   "source": [
    "estaciones_distancia.to_csv('df_distancia_estaciones.csv', index=False)"
   ]
  },
  {
   "cell_type": "code",
   "execution_count": null,
   "metadata": {},
   "outputs": [],
   "source": []
  }
 ],
 "metadata": {
  "kernelspec": {
   "display_name": "Python 3",
   "language": "python",
   "name": "python3"
  },
  "language_info": {
   "codemirror_mode": {
    "name": "ipython",
    "version": 3
   },
   "file_extension": ".py",
   "mimetype": "text/x-python",
   "name": "python",
   "nbconvert_exporter": "python",
   "pygments_lexer": "ipython3",
   "version": "3.6.5"
  }
 },
 "nbformat": 4,
 "nbformat_minor": 2
}
